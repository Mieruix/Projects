{
  "nbformat": 4,
  "nbformat_minor": 0,
  "metadata": {
    "colab": {
      "provenance": [],
      "collapsed_sections": []
    },
    "kernelspec": {
      "name": "python3",
      "display_name": "Python 3"
    },
    "language_info": {
      "name": "python"
    }
  },
  "cells": [
    {
      "cell_type": "code",
      "metadata": {
        "id": "SrEw3U0tEfkX"
      },
      "source": [
        "import matplotlib.pyplot as plt\n",
        "\n",
        "# Import datasets, classifiers and performance metrics\n",
        "from sklearn import datasets, svm, metrics\n",
        "from sklearn.model_selection import train_test_split\n",
        "\n",
        "digits = datasets.load_digits()\n",
        "print(digits.DESCR)"
      ],
      "execution_count": null,
      "outputs": []
    },
    {
      "cell_type": "markdown",
      "metadata": {
        "id": "AjN-pLbyJ5B6"
      },
      "source": [
        "Scikit-learn’s machine-learning algorithms require samples to be stored in a two-dimen- sional array of floating-point values (or two-dimensional array-like collection, such as a list of lists):\n",
        "\n",
        "• Each row represents one sample.\n",
        "\n",
        "• Each column in a given row represents one feature for that sample."
      ]
    },
    {
      "cell_type": "code",
      "metadata": {
        "id": "1tN97lP-HZ1r"
      },
      "source": [
        "print('RAW image data')\n",
        "print(digits.images[8])\n",
        "print('Image labled')\n",
        "print(digits.target[8])\n",
        "plt.imshow(digits.images[8], cmap=plt.cm.gray_r)"
      ],
      "execution_count": null,
      "outputs": []
    },
    {
      "cell_type": "markdown",
      "metadata": {
        "id": "k2PzvDroKR1p"
      },
      "source": [
        "You should always familiarize yourself with your data. This process is called data exploration. For the digit images, you can get a sense of what they look like by displaying them with the Matplotlib implot function. The following image shows the dataset’s first 24 images. To see how difficult a problem handwritten digit recognition is, consider the vari- ations among the images of the 3s in the first, third and fourth rows, and look at the images of the 2s in the first, third and fourth rows."
      ]
    },
    {
      "cell_type": "code",
      "metadata": {
        "id": "Y0rwPYiQKMlD"
      },
      "source": [
        "figure, axes = plt.subplots(nrows = 4, ncols = 6, figsize=(10, 5))\n",
        "\n",
        "for item  in zip(axes.ravel(), digits.images, digits.target): \n",
        "  axes, image, target = item\n",
        "  axes.imshow(image, cmap=plt.cm.gray_r) \n",
        "  axes.set_xticks([]) # remove x-axis tick marks \n",
        "  axes.set_yticks([]) # remove y-axis tick marks axes.set_title(target)\n",
        "  axes.set_title('Training: %i' % target)\n",
        "plt.tight_layout()\n",
        "\n",
        "plt.plot()"
      ],
      "execution_count": null,
      "outputs": []
    },
    {
      "cell_type": "markdown",
      "metadata": {
        "id": "sERfM7R_Ki2r"
      },
      "source": [
        "# Splitting the Data for Training and Testing"
      ]
    },
    {
      "cell_type": "markdown",
      "metadata": {
        "id": "9MEBgMpXK1c2"
      },
      "source": [
        "To apply a classifier on this data, we need to flatten the images, turning each 2-D array of grayscale values from shape (8, 8) into shape (64,). Subsequently, the entire dataset will be of shape (n_samples, n_features), where n_samples is the number of images and n_features is the total number of pixels in each image.\n",
        "We can then split the data into train and test subsets and fit a support vector classifier on the train samples. The fitted classifier can subsequently be used to predict the value of the digit for the samples in the test subset.\n",
        "\n",
        "To specify different splits, you can set the sizes of the testing and training sets with the train_test_split function’s keyword arguments test_size and train_size. Use float- ing-point values from 0.0 through 1.0 to specify the percentages of the data to use for each. You can use integer values to set the precise numbers of samples. If you specify one of these keyword arguments, the other is inferred."
      ]
    },
    {
      "cell_type": "code",
      "metadata": {
        "id": "LQF_jzQSK9-e"
      },
      "source": [
        "# flatten the images\n",
        "n_samples = len(digits.images)\n",
        "data = digits.images.reshape((n_samples, -1))\n",
        "\n",
        "# Split data into 50% train and 50% test subsets\n",
        "X_train, X_test, y_train, y_test = train_test_split(data, digits.target, test_size=0.2, shuffle=False)"
      ],
      "execution_count": null,
      "outputs": []
    },
    {
      "cell_type": "markdown",
      "metadata": {
        "id": "NyZoLa61LvzI"
      },
      "source": [
        "# Creating and Training the Model"
      ]
    },
    {
      "cell_type": "code",
      "metadata": {
        "id": "9wxA6EnVLO6E",
        "colab": {
          "base_uri": "https://localhost:8080/"
        },
        "outputId": "e668ec4d-9d6d-4940-cc59-5174d859cc97"
      },
      "source": [
        "# Create a classifier: a support vector classifier\n",
        "clf = svm.SVC()\n",
        "\n",
        "# Learn the digits on the train subset\n",
        "clf.fit(X_train, y_train)\n"
      ],
      "execution_count": null,
      "outputs": [
        {
          "output_type": "execute_result",
          "data": {
            "text/plain": [
              "SVC(C=1.0, break_ties=False, cache_size=200, class_weight=None, coef0=0.0,\n",
              "    decision_function_shape='ovr', degree=3, gamma='scale', kernel='rbf',\n",
              "    max_iter=-1, probability=False, random_state=None, shrinking=True,\n",
              "    tol=0.001, verbose=False)"
            ]
          },
          "metadata": {},
          "execution_count": 549
        }
      ]
    },
    {
      "cell_type": "markdown",
      "metadata": {
        "id": "3dUHBEfFLu5M"
      },
      "source": [
        "# Predict the Classes"
      ]
    },
    {
      "cell_type": "code",
      "metadata": {
        "id": "etF7ucRlMGjs",
        "colab": {
          "base_uri": "https://localhost:8080/",
          "height": 467
        },
        "outputId": "7a6e9e6a-7719-49c3-a903-0a728667870c"
      },
      "source": [
        "# Predict the value of the digit on the test subset\n",
        "predicted = clf.predict(X_test)\n",
        "\n",
        "_, axes = plt.subplots(nrows=4, ncols=6, figsize=(10, 8))\n",
        "for ax, image, prediction in zip(axes.ravel(), X_test, predicted):\n",
        "    ax.set_axis_off()\n",
        "    image = image.reshape(8, 8)\n",
        "    ax.imshow(image, cmap=plt.cm.gray_r, interpolation='nearest')\n",
        "    ax.set_title(f'Prediction: {prediction}')"
      ],
      "execution_count": null,
      "outputs": [
        {
          "output_type": "display_data",
          "data": {
            "image/png": "[encoded data removed]",
            "text/plain": [
              "<Figure size 720x576 with 24 Axes>"
            ]
          },
          "metadata": {
            "needs_background": "light"
          }
        }
      ]
    },
    {
      "cell_type": "code",
      "metadata": {
        "id": "oplG1bS8M5MX",
        "colab": {
          "base_uri": "https://localhost:8080/"
        },
        "outputId": "8a001865-e130-47df-873c-1e2eaa900616"
      },
      "source": [
        "print(f\"Classification report for classifier {clf}:\\n\"\n",
        "      f\"{metrics.classification_report(y_test, predicted)}\\n\")"
      ],
      "execution_count": null,
      "outputs": [
        {
          "output_type": "stream",
          "name": "stdout",
          "text": [
            "Classification report for classifier SVC(C=1.0, break_ties=False, cache_size=200, class_weight=None, coef0=0.0,\n",
            "    decision_function_shape='ovr', degree=3, gamma='scale', kernel='rbf',\n",
            "    max_iter=-1, probability=False, random_state=None, shrinking=True,\n",
            "    tol=0.001, verbose=False):\n",
            "              precision    recall  f1-score   support\n",
            "\n",
            "           0       1.00      0.97      0.99        35\n",
            "           1       0.97      1.00      0.99        36\n",
            "           2       1.00      1.00      1.00        35\n",
            "           3       0.96      0.73      0.83        37\n",
            "           4       0.97      0.92      0.94        37\n",
            "           5       0.93      1.00      0.96        37\n",
            "           6       1.00      1.00      1.00        37\n",
            "           7       0.92      0.97      0.95        36\n",
            "           8       0.78      0.94      0.85        33\n",
            "           9       0.92      0.89      0.90        37\n",
            "\n",
            "    accuracy                           0.94       360\n",
            "   macro avg       0.94      0.94      0.94       360\n",
            "weighted avg       0.95      0.94      0.94       360\n",
            "\n",
            "\n"
          ]
        }
      ]
    },
    {
      "cell_type": "markdown",
      "metadata": {
        "id": "zH5b8vFeNMeE"
      },
      "source": [
        "**Precision** is the total number of correct predictions for a given digit divided by the total number of predictions for that digit. You can confirm the precision by looking at each column in the confusion matrix. \n",
        "\n",
        "**Recall** is the total number of correct predictions for a given digit divided by the total number of samples that should have been predicted as that digit. You can confirm the recall by looking at each row in the confusion matrix. \n",
        "\n",
        "**F1-score** This is the average of the precision and the recall.\n",
        "\n",
        "**Support** The number of samples with a given expected value. \n"
      ]
    },
    {
      "cell_type": "code",
      "metadata": {
        "id": "RWtJmOVeM6Mv",
        "colab": {
          "base_uri": "https://localhost:8080/",
          "height": 493
        },
        "outputId": "ec28c92f-16c6-4bb2-f2c7-c749bcf6bb60"
      },
      "source": [
        "disp = metrics.plot_confusion_matrix(clf, X_test, y_test)\n",
        "disp.figure_.suptitle(\"Confusion Matrix\")\n",
        "print(f\"Confusion matrix:\\n{disp.confusion_matrix}\")\n",
        "\n",
        "plt.show()"
      ],
      "execution_count": null,
      "outputs": [
        {
          "output_type": "stream",
          "name": "stdout",
          "text": [
            "Confusion matrix:\n",
            "[[34  0  0  0  1  0  0  0  0  0]\n",
            " [ 0 36  0  0  0  0  0  0  0  0]\n",
            " [ 0  0 35  0  0  0  0  0  0  0]\n",
            " [ 0  0  0 27  0  2  0  2  6  0]\n",
            " [ 0  0  0  0 34  0  0  0  1  2]\n",
            " [ 0  0  0  0  0 37  0  0  0  0]\n",
            " [ 0  0  0  0  0  0 37  0  0  0]\n",
            " [ 0  0  0  0  0  0  0 35  1  0]\n",
            " [ 0  1  0  0  0  0  0  0 31  1]\n",
            " [ 0  0  0  1  0  1  0  1  1 33]]\n"
          ]
        },
        {
          "output_type": "display_data",
          "data": {
            "image/png": "[encoded data removed]",
            "text/plain": [
              "<Figure size 432x288 with 2 Axes>"
            ]
          },
          "metadata": {
            "needs_background": "light"
          }
        }
      ]
    },
    {
      "cell_type": "markdown",
      "metadata": {
        "id": "LnVuSZcAQFqc"
      },
      "source": [
        "# Running Multiple Models to Find the Best One"
      ]
    },
    {
      "cell_type": "code",
      "metadata": {
        "id": "C_GMHOLFQMK3",
        "colab": {
          "base_uri": "https://localhost:8080/"
        },
        "outputId": "d9e20236-536a-4280-e19b-d3f5db1bb2d0"
      },
      "source": [
        "from sklearn.naive_bayes import GaussianNB\n",
        "from sklearn.neighbors import KNeighborsClassifier\n",
        "from sklearn import tree\n",
        "from sklearn.model_selection import KFold\n",
        "from sklearn.model_selection import cross_val_score\n",
        "\n",
        "estimators = {\n",
        "  'RBF-SVM 1'   : svm.SVC(),\n",
        "  'RBF-SVM 2'   : svm.SVC(gamma=0.001),\n",
        "  'Poly-SVM 1'  : svm.SVC(kernel='poly', degree = 3),\n",
        "  'Poly-SVM 2'  : svm.SVC(kernel='poly', degree = 6),\n",
        "  'Linear SVM': svm.SVC(kernel='linear'),\n",
        "  'GaussianNB': GaussianNB(),\n",
        "  'KNeighborsClassifier': KNeighborsClassifier(),\n",
        "  'DecisionTree'    : tree.DecisionTreeClassifier()\n",
        "}\n",
        "\n",
        "for estimator_name, estimator_object in estimators.items(): \n",
        "  kfold = KFold(n_splits=10, random_state=11, shuffle=True) \n",
        "  scores = cross_val_score(estimator = estimator_object, X = digits.data, y = digits.target, cv = kfold)\n",
        "  print(f'{estimator_name:>20} : ' + f'mean accuracy = {scores.mean():.2%}\\t ' + f'standard deviation = {scores.std():.2%}')  "
      ],
      "execution_count": null,
      "outputs": [
        {
          "output_type": "stream",
          "name": "stdout",
          "text": [
            "           RBF-SVM 1 : mean accuracy = 98.72%\t standard deviation = 0.79%\n",
            "           RBF-SVM 2 : mean accuracy = 99.17%\t standard deviation = 0.67%\n",
            "          Poly-SVM 1 : mean accuracy = 99.05%\t standard deviation = 0.66%\n",
            "          Poly-SVM 2 : mean accuracy = 98.22%\t standard deviation = 1.02%\n",
            "          Linear SVM : mean accuracy = 98.00%\t standard deviation = 1.12%\n",
            "          GaussianNB : mean accuracy = 84.48%\t standard deviation = 3.47%\n",
            "KNeighborsClassifier : mean accuracy = 98.72%\t standard deviation = 0.75%\n",
            "        DecisionTree : mean accuracy = 85.64%\t standard deviation = 2.21%\n"
          ]
        }
      ]
    },
    {
      "cell_type": "markdown",
      "metadata": {
        "id": "vVRsDnZBYa6j"
      },
      "source": [
        "\n",
        "\n",
        "---\n",
        "# LAB - Data set wine\n",
        "Classify wine dataset into 3 classes using SVM "
      ]
    },
    {
      "cell_type": "code",
      "metadata": {
        "id": "aY_yIjoNaHiX",
        "colab": {
          "base_uri": "https://localhost:8080/"
        },
        "outputId": "2795dfb1-89bc-41c4-9237-478864d3d0d9"
      },
      "source": [
        "#Jamie Juntorn Thiantanukij 2021610213\n",
        "#Use SVM to classify/predict \n",
        "#Change the gamma/kernel/degree to maximize the accuracy\n",
        "#Explaination: Either in textboxes or comments\n",
        "\n",
        "wines = datasets.load_wine()\n",
        "print(wines.DESCR)"
      ],
      "execution_count": null,
      "outputs": [
        {
          "output_type": "stream",
          "name": "stdout",
          "text": [
            ".. _wine_dataset:\n",
            "\n",
            "Wine recognition dataset\n",
            "------------------------\n",
            "\n",
            "**Data Set Characteristics:**\n",
            "\n",
            "    :Number of Instances: 178 (50 in each of three classes)\n",
            "    :Number of Attributes: 13 numeric, predictive attributes and the class\n",
            "    :Attribute Information:\n",
            " \t\t- Alcohol\n",
            " \t\t- Malic acid\n",
            " \t\t- Ash\n",
            "\t\t- Alcalinity of ash  \n",
            " \t\t- Magnesium\n",
            "\t\t- Total phenols\n",
            " \t\t- Flavanoids\n",
            " \t\t- Nonflavanoid phenols\n",
            " \t\t- Proanthocyanins\n",
            "\t\t- Color intensity\n",
            " \t\t- Hue\n",
            " \t\t- OD280/OD315 of diluted wines\n",
            " \t\t- Proline\n",
            "\n",
            "    - class:\n",
            "            - class_0\n",
            "            - class_1\n",
            "            - class_2\n",
            "\t\t\n",
            "    :Summary Statistics:\n",
            "    \n",
            "    ============================= ==== ===== ======= =====\n",
            "                                   Min   Max   Mean     SD\n",
            "    ============================= ==== ===== ======= =====\n",
            "    Alcohol:                      11.0  14.8    13.0   0.8\n",
            "    Malic Acid:                   0.74  5.80    2.34  1.12\n",
            "    Ash:                          1.36  3.23    2.36  0.27\n",
            "    Alcalinity of Ash:            10.6  30.0    19.5   3.3\n",
            "    Magnesium:                    70.0 162.0    99.7  14.3\n",
            "    Total Phenols:                0.98  3.88    2.29  0.63\n",
            "    Flavanoids:                   0.34  5.08    2.03  1.00\n",
            "    Nonflavanoid Phenols:         0.13  0.66    0.36  0.12\n",
            "    Proanthocyanins:              0.41  3.58    1.59  0.57\n",
            "    Colour Intensity:              1.3  13.0     5.1   2.3\n",
            "    Hue:                          0.48  1.71    0.96  0.23\n",
            "    OD280/OD315 of diluted wines: 1.27  4.00    2.61  0.71\n",
            "    Proline:                       278  1680     746   315\n",
            "    ============================= ==== ===== ======= =====\n",
            "\n",
            "    :Missing Attribute Values: None\n",
            "    :Class Distribution: class_0 (59), class_1 (71), class_2 (48)\n",
            "    :Creator: R.A. Fisher\n",
            "    :Donor: Michael Marshall (MARSHALL%PLU@io.arc.nasa.gov)\n",
            "    :Date: July, 1988\n",
            "\n",
            "This is a copy of UCI ML Wine recognition datasets.\n",
            "https://archive.ics.uci.edu/ml/machine-learning-databases/wine/wine.data\n",
            "\n",
            "The data is the results of a chemical analysis of wines grown in the same\n",
            "region in Italy by three different cultivators. There are thirteen different\n",
            "measurements taken for different constituents found in the three types of\n",
            "wine.\n",
            "\n",
            "Original Owners: \n",
            "\n",
            "Forina, M. et al, PARVUS - \n",
            "An Extendible Package for Data Exploration, Classification and Correlation. \n",
            "Institute of Pharmaceutical and Food Analysis and Technologies,\n",
            "Via Brigata Salerno, 16147 Genoa, Italy.\n",
            "\n",
            "Citation:\n",
            "\n",
            "Lichman, M. (2013). UCI Machine Learning Repository\n",
            "[https://archive.ics.uci.edu/ml]. Irvine, CA: University of California,\n",
            "School of Information and Computer Science. \n",
            "\n",
            ".. topic:: References\n",
            "\n",
            "  (1) S. Aeberhard, D. Coomans and O. de Vel, \n",
            "  Comparison of Classifiers in High Dimensional Settings, \n",
            "  Tech. Rep. no. 92-02, (1992), Dept. of Computer Science and Dept. of  \n",
            "  Mathematics and Statistics, James Cook University of North Queensland. \n",
            "  (Also submitted to Technometrics). \n",
            "\n",
            "  The data was used with many others for comparing various \n",
            "  classifiers. The classes are separable, though only RDA \n",
            "  has achieved 100% correct classification. \n",
            "  (RDA : 100%, QDA 99.4%, LDA 98.9%, 1NN 96.1% (z-transformed data)) \n",
            "  (All results using the leave-one-out technique) \n",
            "\n",
            "  (2) S. Aeberhard, D. Coomans and O. de Vel, \n",
            "  \"THE CLASSIFICATION PERFORMANCE OF RDA\" \n",
            "  Tech. Rep. no. 92-01, (1992), Dept. of Computer Science and Dept. of \n",
            "  Mathematics and Statistics, James Cook University of North Queensland. \n",
            "  (Also submitted to Journal of Chemometrics).\n",
            "\n"
          ]
        }
      ]
    },
    {
      "cell_type": "code",
      "metadata": {
        "id": "jhjwF-Cmrl2p"
      },
      "source": [
        "#Setting up the Data\n",
        "X = wines.data\n",
        "y = wines.target"
      ],
      "execution_count": null,
      "outputs": []
    },
    {
      "cell_type": "code",
      "metadata": {
        "id": "dOC7rlI0tYjG"
      },
      "source": [
        "#Split data into train and test subsets\n",
        "#Training data is the part to create a model; for model to learn\n",
        "#Testing data is use to test model performance\n",
        "#Here I divide the data randomly; training 70% and test 30%\n",
        "X_train, X_test, y_train, y_test = train_test_split( X, y, test_size = 0.3, random_state = 100)"
      ],
      "execution_count": null,
      "outputs": []
    },
    {
      "cell_type": "code",
      "metadata": {
        "colab": {
          "base_uri": "https://localhost:8080/"
        },
        "id": "t8ODyo0ut1BM",
        "outputId": "7da9711c-a30f-4045-e211-7ed8929bf397"
      },
      "source": [
        "# Create a classifier: a support vector classifier\n",
        "#creates a line or a hyperplane which separates the data into classes.\n",
        "clfWine = svm.SVC()\n",
        "\n",
        "# Training / Learning\n",
        "clfWine.fit(X_train, y_train)"
      ],
      "execution_count": null,
      "outputs": [
        {
          "output_type": "execute_result",
          "data": {
            "text/plain": [
              "SVC(C=1.0, break_ties=False, cache_size=200, class_weight=None, coef0=0.0,\n",
              "    decision_function_shape='ovr', degree=3, gamma='scale', kernel='rbf',\n",
              "    max_iter=-1, probability=False, random_state=None, shrinking=True,\n",
              "    tol=0.001, verbose=False)"
            ]
          },
          "metadata": {},
          "execution_count": 557
        }
      ]
    },
    {
      "cell_type": "markdown",
      "metadata": {
        "id": "9i50jB5YUlxA"
      },
      "source": [
        "### **Below is a classification report.**\n",
        "As you can noticed, the table is divided into 4 coulumns. \n",
        "1. Precision - defined as the ratio of true positives to the sum of true and false positives. (In short: Accuracy of positive predictions)\n",
        "\n",
        "   (tp / tp + fp)\n",
        "\n",
        "\n",
        "2. Recall - defined as the ratio of true positives to the sum of true positives and false negatives. (In short: Fraction of positives that were correctly identified.)\n",
        "\n",
        "  (tp / tp + fn)\n",
        "\n",
        "\n",
        "3. F1-Score - the weighted harmonic mean of precision and recall. (The closer the value of the F1 score is to 1.0, the better the expected performance of the model is whereas 0.0 is the worst.) \n",
        "\n",
        "  (recall^-1 + precision^-1 / 2)^-1 or (2*(Recall * Precision) / (Recall + Precision))\n",
        "\n",
        "\n",
        "4. Support - the number of actual occurrences of the class in the dataset. (it just diagnoses the performance evaluation process.)\n",
        "\n",
        "\n",
        "  Notes:\n",
        "\n",
        "  **TN / True Negative: when a case was negative and predicted negative\n",
        "\n",
        "  **TP / True Positive: when a case was positive and predicted positive\n",
        "\n",
        "  **FN / False Negative: when a case was positive but predicted negative\n",
        "\n",
        "  **FP / False Positive: when a case was negative but predicted positive"
      ]
    },
    {
      "cell_type": "code",
      "metadata": {
        "id": "B-AQ2N2ixKsI",
        "colab": {
          "base_uri": "https://localhost:8080/"
        },
        "outputId": "e7938387-c817-4301-ea93-b9c8f7d23639"
      },
      "source": [
        "# Predict the value of the digit on the test subset\n",
        "#Classification Report\n",
        "\n",
        "predicted = clfWine.predict(X_test)\n",
        "print(f\"Classification report for classifier {clfWine}:\\n\"\n",
        "      f\"{metrics.classification_report(y_test, predicted)}\\n\")"
      ],
      "execution_count": null,
      "outputs": [
        {
          "output_type": "stream",
          "name": "stdout",
          "text": [
            "Classification report for classifier SVC(C=1.0, break_ties=False, cache_size=200, class_weight=None, coef0=0.0,\n",
            "    decision_function_shape='ovr', degree=3, gamma='scale', kernel='rbf',\n",
            "    max_iter=-1, probability=False, random_state=None, shrinking=True,\n",
            "    tol=0.001, verbose=False):\n",
            "              precision    recall  f1-score   support\n",
            "\n",
            "           0       0.86      0.86      0.86        14\n",
            "           1       0.44      0.89      0.59        19\n",
            "           2       1.00      0.05      0.09        21\n",
            "\n",
            "    accuracy                           0.56        54\n",
            "   macro avg       0.76      0.60      0.51        54\n",
            "weighted avg       0.76      0.56      0.46        54\n",
            "\n",
            "\n"
          ]
        }
      ]
    },
    {
      "cell_type": "markdown",
      "metadata": {
        "id": "b-zAgqA3zHGc"
      },
      "source": [
        "### Confusion Matrix\n",
        "\n",
        "  First, what is confusion matrix?\n",
        "\n",
        "  Confusion matrix is a summary of prediction results on a classification problem. Can be use to measures the performance of Machine Learning Classification. \n",
        "  \n",
        "  It represents the different combinations of True VS Predicted labels/values.\n",
        "\n",
        "  Intepretation of this Matrix (If I understand correctly):\n",
        "  \n",
        "  For example, The first row are the actual wine in class 0. The model predicted 12 of these correctly and incorrectly predicted 46 of the class 0 to be class 1 and 0 of the class 0 to be 2.\n",
        "\n",
        "  Looking at the male column, of the 14 wines predicted by the model (sum of column 0), 12 were actually class 0, while 2 were class 1 incorrectly predicted to be class 0 and 0 were class 2 incorrectly predicted to be class 0.\n",
        "\n",
        "  In this matrix, the diagonal values (12, 17, 1) is the correct predictions (true). \n",
        "\n"
      ]
    },
    {
      "cell_type": "code",
      "metadata": {
        "id": "ME0ZtGhSfUCq",
        "colab": {
          "base_uri": "https://localhost:8080/",
          "height": 375
        },
        "outputId": "0951aaa9-2215-4799-c7b9-e238d7c04c62"
      },
      "source": [
        "#Confusion Matrix\n",
        "disp = metrics.plot_confusion_matrix(clfWine, X_test, y_test)\n",
        "disp.figure_.suptitle(\"Confusion Matrix\")\n",
        "print(f\"Confusion matrix:\\n{disp.confusion_matrix}\")\n",
        "\n",
        "plt.show()"
      ],
      "execution_count": null,
      "outputs": [
        {
          "output_type": "stream",
          "name": "stdout",
          "text": [
            "Confusion matrix:\n",
            "[[12  2  0]\n",
            " [ 2 17  0]\n",
            " [ 0 20  1]]\n"
          ]
        },
        {
          "output_type": "display_data",
          "data": {
            "image/png": "[encoded data removed]",
            "text/plain": [
              "<Figure size 432x288 with 2 Axes>"
            ]
          },
          "metadata": {
            "needs_background": "light"
          }
        }
      ]
    },
    {
      "cell_type": "code",
      "metadata": {
        "colab": {
          "base_uri": "https://localhost:8080/"
        },
        "id": "O-NPw1p4Z5Io",
        "outputId": "9aef266b-df50-442b-e757-383393514f10"
      },
      "source": [
        "#Running Multiple Models, to find the best one.\n",
        "#understanding which models work for the given data.\n",
        "#kernel{‘linear’, ‘poly’, ‘rbf’, ‘sigmoid’, ‘precomputed’}, default=’rbf’\n",
        "#https://scikit-learn.org/stable/modules/generated/sklearn.svm.SVC.html\n",
        "\n",
        "estimators = {\n",
        "  #Default Value of Gamma\n",
        "  'RBF-SVM 1'   : svm.SVC(),\n",
        "  #Assign Value to Gamma; Customize\n",
        "  #compare different values of Gamma\n",
        "  'RBF-SVM (0.1)'  : svm.SVC(gamma=0.1), #lowest mean accuracy\n",
        "  'RBF-SVM 3 (0.01)'  : svm.SVC(gamma=0.01),\n",
        "  'RBF-SVM 4 (0.001)'   : svm.SVC(gamma=0.001),\n",
        "  'RBF-SVM 5 (0.0001)'  : svm.SVC(gamma=0.0001), \n",
        "  'RBF-SVM 6 (0.0003)'  : svm.SVC(gamma=0.0003), #highest mean accuracy\n",
        "\n",
        "  #Polynomial SVM\n",
        "  #Degree parameter controls the flexibility of the decision boundary. \n",
        "  #Higher degree kernels yield a more flexible decision boundary.\n",
        "\n",
        "  #Default Value\n",
        "  'Poly-SVM 1 (3)'  : svm.SVC(kernel='poly', degree = 3), #lowest mean accuracy\n",
        "  #Assigned Value; trying out different values of degree\n",
        "  'Poly-SVM 2 (6)'  : svm.SVC(kernel='poly', degree = 6),\n",
        "  'Poly-SVM 3 (5)'  : svm.SVC(kernel='poly', degree = 5), #highest mean accuracy\n",
        "  'Poly-SVM 4 (4)'  : svm.SVC(kernel='poly', degree = 4),\n",
        "\n",
        "  #Linear SVM\n",
        "  'Linear SVM': svm.SVC(kernel='linear'),\n",
        "\n",
        "  #Sigmoid\n",
        "  'Sigmoid SVM 1 (3)': svm.SVC(kernel ='sigmoid', degree = 3),\n",
        "  #'Sigmoid SVM 2 (6)': svm.SVC(kernel ='sigmoid', degree = 6), nothing change\n",
        "\n",
        "  'GaussianNB': GaussianNB(),\n",
        "  'KNeighborsClassifier': KNeighborsClassifier(),\n",
        "  'DecisionTree'    : tree.DecisionTreeClassifier()\n",
        "}\n",
        "\n",
        "#For Loop\n",
        "for estimator_name, estimator_object in estimators.items(): \n",
        "  kfold = KFold(n_splits=10, random_state=11, shuffle=True) \n",
        "  scores = cross_val_score(estimator = estimator_object, X = wines.data, y = wines.target, cv = kfold)\n",
        "  print(f'{estimator_name:>20} : ' + f'mean accuracy = {scores.mean():.2%}\\t ' + f'standard deviation = {scores.std():.2%}')  "
      ],
      "execution_count": null,
      "outputs": [
        {
          "output_type": "stream",
          "name": "stdout",
          "text": [
            "           RBF-SVM 1 : mean accuracy = 67.94%\t standard deviation = 13.26%\n",
            "       RBF-SVM (0.1) : mean accuracy = 43.40%\t standard deviation = 10.42%\n",
            "    RBF-SVM 3 (0.01) : mean accuracy = 69.67%\t standard deviation = 13.50%\n",
            "   RBF-SVM 4 (0.001) : mean accuracy = 66.80%\t standard deviation = 12.37%\n",
            "  RBF-SVM 5 (0.0001) : mean accuracy = 71.24%\t standard deviation = 13.00%\n",
            "  RBF-SVM 6 (0.0003) : mean accuracy = 72.32%\t standard deviation = 13.33%\n",
            "      Poly-SVM 1 (3) : mean accuracy = 65.65%\t standard deviation = 11.77%\n",
            "      Poly-SVM 2 (6) : mean accuracy = 66.24%\t standard deviation = 12.49%\n",
            "      Poly-SVM 3 (5) : mean accuracy = 67.91%\t standard deviation = 11.79%\n",
            "      Poly-SVM 4 (4) : mean accuracy = 67.39%\t standard deviation = 12.05%\n",
            "          Linear SVM : mean accuracy = 95.52%\t standard deviation = 4.17%\n",
            "   Sigmoid SVM 1 (3) : mean accuracy = 15.75%\t standard deviation = 8.25%\n",
            "          GaussianNB : mean accuracy = 97.75%\t standard deviation = 2.76%\n",
            "KNeighborsClassifier : mean accuracy = 68.95%\t standard deviation = 11.37%\n",
            "        DecisionTree : mean accuracy = 88.17%\t standard deviation = 7.29%\n"
          ]
        }
      ]
    }
  ]
}