{
  "nbformat": 4,
  "nbformat_minor": 0,
  "metadata": {
    "colab": {
      "provenance": [],
      "collapsed_sections": []
    },
    "kernelspec": {
      "name": "python3",
      "display_name": "Python 3"
    },
    "language_info": {
      "name": "python"
    }
  },
  "cells": [
    {
      "cell_type": "code",
      "metadata": {
        "colab": {
          "base_uri": "https://localhost:8080/"
        },
        "id": "kUvBXNlEngx3",
        "outputId": "57948fd8-99e4-471f-d516-ceb9289ea385"
      },
      "source": [
        "# Juntorn Thiantanukij 2021610213\n",
        "# Exercise 1 Sqaure\n",
        "\n",
        "class square:\n",
        "\n",
        "    def __init__(self, side):\n",
        "        self.side = side\n",
        "        self.para = (side*4)\n",
        "        self.area = side*side\n",
        "\n",
        "\n",
        "setSquare = square(6)\n",
        "\n",
        "print('Square Sides:', setSquare.side)\n",
        "print(\"\")\n",
        "\n",
        "print('The Square Perimeter:', setSquare.para)\n",
        "print('The Square Area:', setSquare.area)"
      ],
      "execution_count": null,
      "outputs": [
        {
          "output_type": "stream",
          "text": [
            "Square Sides: 6\n",
            "\n",
            "The Square Perimeter: 24\n",
            "The Square Area: 36\n"
          ],
          "name": "stdout"
        }
      ]
    }
  ]
}