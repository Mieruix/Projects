{
  "nbformat": 4,
  "nbformat_minor": 0,
  "metadata": {
    "colab": {
      "provenance": [],
      "collapsed_sections": []
    },
    "kernelspec": {
      "name": "python3",
      "display_name": "Python 3"
    },
    "language_info": {
      "name": "python"
    }
  },
  "cells": [
    {
      "cell_type": "code",
      "metadata": {
        "colab": {
          "base_uri": "https://localhost:8080/"
        },
        "id": "FGDLkMU1xmnC",
        "outputId": "59bd5a58-63c4-4c49-ac45-092aaa61453e"
      },
      "source": [
        "# Juntorn Thiantanukij 2021610213\n",
        "# Exercise 3 Vectors\n",
        "\n",
        "import math\n",
        "class Vector:\n",
        "\n",
        "    def __init__(self, x, y):\n",
        "        self.x = x\n",
        "        self.y = y\n",
        "\n",
        "    def addition(self, vector):\n",
        "        return Vector(self.x + vector.x, self.y + vector.y)\n",
        "\n",
        "    def subtraction(self, vector):\n",
        "        return Vector(self.x - vector.x, self.y - vector.y)\n",
        "\n",
        "    def scalarMulti(self, vector):\n",
        "        return self.x * vector.x + self.y * vector.y\n",
        "\n",
        "    def lenght(self, vector):\n",
        "        return math.sqrt(((self.x - vector.x) ** 2)+((self.y - vector.y) ** 2))\n",
        "\n",
        "\n",
        "vec1 = Vector(3, 4)\n",
        "vec2 = Vector(5, 6)\n",
        "\n",
        "print(\"Vector 1: \", vec1.x, \"i +\", vec1.y, \"j\")\n",
        "print(\"Vector 2: \", vec2.x, \"i +\", vec2.y, \"j\")\n",
        "print(\"\")\n",
        "\n",
        "vec3 = Vector.addition(vec1, vec2)\n",
        "print(\"Vector 1 + Vector 2 = \", vec3.x, \"i +\", vec3.y, \"j\")\n",
        "print(\"\")\n",
        "\n",
        "vec3 = Vector.subtraction(vec1, vec2)\n",
        "print(\"Vector 1 - Vector 2 = \", vec3.x, \"i +\", vec3.y, \"j\")\n",
        "print(\"\")\n",
        "\n",
        "vec3 = Vector.scalarMulti(vec1, vec2)\n",
        "print(\"Vector 1 x Vector 2 = \", vec3)\n",
        "print(\"\")\n",
        "\n",
        "vec3 = Vector.lenght(vec1, vec2)\n",
        "print(\"Lenght between 2 vectors = \", vec3)\n"
      ],
      "execution_count": null,
      "outputs": [
        {
          "output_type": "stream",
          "text": [
            "Vector 1:  3 i + 4 j\n",
            "Vector 2:  5 i + 6 j\n",
            "\n",
            "Vector 1 + Vector 2 =  8 i + 10 j\n",
            "\n",
            "Vector 1 - Vector 2 =  -2 i + -2 j\n",
            "\n",
            "Vector 1 x Vector 2 =  39\n",
            "\n",
            "Lenght between 2 vectors =  2.8284271247461903\n"
          ],
          "name": "stdout"
        }
      ]
    }
  ]
}