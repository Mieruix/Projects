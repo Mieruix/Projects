{
  "nbformat": 4,
  "nbformat_minor": 0,
  "metadata": {
    "colab": {
      "provenance": [],
      "collapsed_sections": []
    },
    "kernelspec": {
      "name": "python3",
      "display_name": "Python 3"
    },
    "language_info": {
      "name": "python"
    }
  },
  "cells": [
    {
      "cell_type": "markdown",
      "metadata": {
        "id": "kpcm13zYDoLB"
      },
      "source": [
        "# Perceptron Model"
      ]
    },
    {
      "cell_type": "code",
      "metadata": {
        "id": "zqxB6iPPZn5Z"
      },
      "source": [
        "import numpy as np\n",
        "\n",
        "def singlePerceptron(f, w):\n",
        "  return w[1:]@f.transpose() + w[0]  # f[0]*w[1] + f[1]*w[2] + ... + w[0]\n",
        "\n",
        "\n",
        "def classify(x):\n",
        "  return np.sign(x + 1e-9) \n",
        "\n",
        "def updateW(currentW, f, y_star):\n",
        "  fx = np.append([1], f) # f = [f[0], f[1]]     fx = [[1], f[0], f[1]] w = [[w0, w1, w2]]\n",
        "  return currentW - y_star*fx\n",
        "\n",
        "def findW(f, y):\n",
        "  print(\"-----------------------------------------\")\n",
        "  print(\"Train\")\n",
        "  print(\"-----------------------------------------\")\n",
        "  w = np.array([-1, 0, 0])\n",
        "  print(\"Initial weight:{}\".format(w))\n",
        "  check = 0\n",
        "  epoch = 0\n",
        "  while(check < len(y)):\n",
        "    for i in range(len(y)):\n",
        "      epoch += 1\n",
        "      fx = singlePerceptron(f[i], w)\n",
        "      y_star = classify(fx)\n",
        "      y[i] = 1 if y[i] > 0 else -1\n",
        "      # if y[i] > 0:\n",
        "      #  y[i] = 1\n",
        "      # else:\n",
        "      #  y[i] = -1\n",
        "      if (y_star == y[i]):\n",
        "        check += 1\n",
        "      else:\n",
        "        check = 0\n",
        "        w = updateW(w, f[i], y_star)\n",
        "        print(\"Updated weight:{}\".format(w))\n",
        "        # w = w_new\n",
        "      \n",
        "  print(\"-----------------------------------------\")\n",
        "  print(\"Final weight:{} Epoch:{}\".format(w, epoch))\n",
        "  print(\"-----------------------------------------\")\n",
        "  return w\n",
        "\n",
        "def testSinglePerceptron(f, w, name):\n",
        "  print(\"-----------------------------------------\")\n",
        "  print(\"Test Single Perceptron {}\".format(name))\n",
        "  print(\"-----------------------------------------\")\n",
        "  for i in f:\n",
        "    fx = singlePerceptron(i, w)\n",
        "    y_star = classify(fx)\n",
        "    print(\"Predicted output:{} \\t{}\".format(i, (lambda x: 0.5*(x + 1))(y_star)))\n",
        "  print(\"-----------------------------------------\")\n",
        "\n",
        "# f = np.array([[1, 1],[3, 2],[2, 4],[3, 4],[2, 3]])\n",
        "# y_target = [-1, 1, 1, 1, -1]\n",
        "\n",
        "# w = findW(f, y_target)\n",
        "\n",
        "# testSinglePerceptron(f, w, \"Example\")\n"
      ],
      "execution_count": null,
      "outputs": []
    },
    {
      "cell_type": "code",
      "metadata": {
        "id": "V04oM2mfRFHi",
        "colab": {
          "base_uri": "https://localhost:8080/"
        },
        "outputId": "c9818d02-287d-4cec-d1f7-5d7b8f97b47f"
      },
      "source": [
        "f = np.array([[0, 0],[0, 1],[1, 0],[1, 1]])\n",
        "y_OR = [-1, 1, 1, 1]\n",
        "y_NAND = [1, 1, 1, -1]\n",
        "y_AND = [-1, -1, -1, 1]\n",
        "\n",
        "w_OR = findW(f, y_OR)\n",
        "w_NAND = findW(f, y_NAND)\n",
        "w_AND = findW(f, y_AND)\n",
        "\n",
        "testSinglePerceptron(f, w_OR, \"OR\")\n",
        "testSinglePerceptron(f, w_NAND, \"NAND\")\n",
        "testSinglePerceptron(f, w_AND, \"AND\")"
      ],
      "execution_count": null,
      "outputs": [
        {
          "output_type": "stream",
          "name": "stdout",
          "text": [
            "-----------------------------------------\n",
            "Train\n",
            "-----------------------------------------\n",
            "Initial weight:[-1  0  0]\n",
            "Updated weight:[0. 0. 1.]\n",
            "Updated weight:[-1.  0.  1.]\n",
            "Updated weight:[0. 1. 1.]\n",
            "Updated weight:[-1.  1.  1.]\n",
            "-----------------------------------------\n",
            "Final weight:[-1.  1.  1.] Epoch:16\n",
            "-----------------------------------------\n",
            "-----------------------------------------\n",
            "Train\n",
            "-----------------------------------------\n",
            "Initial weight:[-1  0  0]\n",
            "Updated weight:[0. 0. 0.]\n",
            "Updated weight:[-1. -1. -1.]\n",
            "Updated weight:[ 0. -1. -1.]\n",
            "Updated weight:[ 1. -1.  0.]\n",
            "Updated weight:[ 0. -2. -1.]\n",
            "Updated weight:[ 1. -2.  0.]\n",
            "Updated weight:[ 2. -1.  0.]\n",
            "Updated weight:[ 1. -2. -1.]\n",
            "Updated weight:[ 2. -1. -1.]\n",
            "Updated weight:[ 1. -2. -2.]\n",
            "Updated weight:[ 2. -2. -1.]\n",
            "-----------------------------------------\n",
            "Final weight:[ 2. -2. -1.] Epoch:24\n",
            "-----------------------------------------\n",
            "-----------------------------------------\n",
            "Train\n",
            "-----------------------------------------\n",
            "Initial weight:[-1  0  0]\n",
            "Updated weight:[0. 1. 1.]\n",
            "Updated weight:[-1.  1.  1.]\n",
            "Updated weight:[-2.  1.  0.]\n",
            "Updated weight:[-1.  2.  1.]\n",
            "Updated weight:[-2.  2.  0.]\n",
            "Updated weight:[-3.  1.  0.]\n",
            "Updated weight:[-2.  2.  1.]\n",
            "Updated weight:[-3.  1.  1.]\n",
            "Updated weight:[-2.  2.  2.]\n",
            "Updated weight:[-3.  2.  1.]\n",
            "-----------------------------------------\n",
            "Final weight:[-3.  2.  1.] Epoch:24\n",
            "-----------------------------------------\n",
            "-----------------------------------------\n",
            "Test Single Perceptron OR\n",
            "-----------------------------------------\n",
            "Predicted output:[0 0] \t0.0\n",
            "Predicted output:[0 1] \t1.0\n",
            "Predicted output:[1 0] \t1.0\n",
            "Predicted output:[1 1] \t1.0\n",
            "-----------------------------------------\n",
            "-----------------------------------------\n",
            "Test Single Perceptron NAND\n",
            "-----------------------------------------\n",
            "Predicted output:[0 0] \t1.0\n",
            "Predicted output:[0 1] \t1.0\n",
            "Predicted output:[1 0] \t1.0\n",
            "Predicted output:[1 1] \t0.0\n",
            "-----------------------------------------\n",
            "-----------------------------------------\n",
            "Test Single Perceptron AND\n",
            "-----------------------------------------\n",
            "Predicted output:[0 0] \t0.0\n",
            "Predicted output:[0 1] \t0.0\n",
            "Predicted output:[1 0] \t0.0\n",
            "Predicted output:[1 1] \t1.0\n",
            "-----------------------------------------\n"
          ]
        }
      ]
    },
    {
      "cell_type": "markdown",
      "metadata": {
        "id": "EOeXrfCpDw4D"
      },
      "source": [
        "# XOR Gate using Multiple perceptron"
      ]
    },
    {
      "cell_type": "code",
      "metadata": {
        "id": "EhlR___hFAOM",
        "colab": {
          "base_uri": "https://localhost:8080/"
        },
        "outputId": "17bbb58f-0a32-453d-bc1d-4b07c1b546ab"
      },
      "source": [
        "def testMultiplePerceptron(f, w_OR, w_NAND, w_AND, name):\n",
        "  print(\"-----------------------------------------\")\n",
        "  print(\"Test Multiple Perceptron {}\".format(name))\n",
        "  print(\"-----------------------------------------\")\n",
        "  for i in f:\n",
        "    y_or = classify(singlePerceptron(i, w_OR))\n",
        "    y_nand = classify(singlePerceptron(i, w_NAND))\n",
        "    y_and = classify(singlePerceptron(np.array([y_or, y_nand]), w_AND))\n",
        "    print(\"Predicted output:{} \\t{}\".format(i, (lambda x: 0.5*(x + 1))(y_and)))\n",
        "  print(\"-----------------------------------------\")\n",
        "\n",
        "testMultiplePerceptron(f, w_OR, w_NAND, w_AND, \"XOR\")"
      ],
      "execution_count": null,
      "outputs": [
        {
          "output_type": "stream",
          "name": "stdout",
          "text": [
            "-----------------------------------------\n",
            "Test Multiple Perceptron XOR\n",
            "-----------------------------------------\n",
            "Predicted output:[0 0] \t0.0\n",
            "Predicted output:[0 1] \t1.0\n",
            "Predicted output:[1 0] \t1.0\n",
            "Predicted output:[1 1] \t0.0\n",
            "-----------------------------------------\n"
          ]
        }
      ]
    },
    {
      "cell_type": "markdown",
      "metadata": {
        "id": "Won7tLdfXiK8"
      },
      "source": [
        "# Predict continuos value"
      ]
    },
    {
      "cell_type": "code",
      "metadata": {
        "id": "xP6Nk0UFP-um"
      },
      "source": [
        "def singlePerceptron(f, w):\n",
        "  return w[1:]@f.transpose() + w[0]\n",
        "\n",
        "def classify(x):\n",
        "  return x\n",
        "\n",
        "def updateW(currentW, f, err, alpha):\n",
        "  fx = np.append([1], f)\n",
        "  return currentW - err*fx*alpha\n",
        "\n",
        "def findW(f, y, alpha):\n",
        "  print(\"-----------------------------------------\")\n",
        "  print(\"Train\")\n",
        "  print(\"-----------------------------------------\")\n",
        "  w = np.array([-1, 0])\n",
        "  print(\"Initial weight:{}\".format(w))\n",
        "  check = 0\n",
        "  epoch = 0\n",
        "  while(check < len(y)):\n",
        "    for i in range(len(y)):\n",
        "      epoch += 1\n",
        "      fx = singlePerceptron(f[i], w)\n",
        "      err = (fx - y[i])\n",
        "      if err**2 < 1e-3: # (y_star == y[i])  y = 0.01 y1 = 0.010000000001 err = 0.000000000000000000000001\n",
        "        check += 1\n",
        "      else:\n",
        "        check = 0\n",
        "        w_new = updateW(w, f[i], err, alpha)\n",
        "        # print(\"Updated weight:{}\".format(w_new))\n",
        "        w = w_new\n",
        "\n",
        "  print(\"-----------------------------------------\")\n",
        "  print(\"Final weight:{} Epoch:{}\".format(w, epoch))\n",
        "  print(\"-----------------------------------------\")\n",
        "  return w\n",
        "\n",
        "def testSinglePerceptron(f, w, name):\n",
        "  print(\"-----------------------------------------\")\n",
        "  print(\"Test Single Perceptron {}\".format(name))\n",
        "  print(\"-----------------------------------------\")\n",
        "  for i in f:\n",
        "    fx = singlePerceptron(i, w)\n",
        "    y_star = classify(fx)\n",
        "    print(\"Predicted output:{}  \\t{:.1f}\".format(i, y_star))\n",
        "  print(\"-----------------------------------------\")\n",
        "\n"
      ],
      "execution_count": null,
      "outputs": []
    },
    {
      "cell_type": "code",
      "metadata": {
        "id": "arKaEi-4RZ1_",
        "colab": {
          "base_uri": "https://localhost:8080/"
        },
        "outputId": "b74c042f-d6f6-4a00-d578-98bd62e40832"
      },
      "source": [
        "f = np.array([[0], [1], [2], [3], [4]])\n",
        "y_target = [32, 33.8, 35.6, 37.4, 39.2]\n",
        "alpha = 1e-2\n",
        "\n",
        "w = findW(f, y_target, alpha)\n",
        "\n",
        "testSinglePerceptron(f, w, \"C to F\")"
      ],
      "execution_count": null,
      "outputs": [
        {
          "output_type": "stream",
          "name": "stdout",
          "text": [
            "-----------------------------------------\n",
            "Train\n",
            "-----------------------------------------\n",
            "Initial weight:[-1  0]\n",
            "-----------------------------------------\n",
            "Final weight:[31.96843668  1.81561841] Epoch:2375\n",
            "-----------------------------------------\n",
            "-----------------------------------------\n",
            "Test Single Perceptron C to F\n",
            "-----------------------------------------\n",
            "Predicted output:[0]  \t32.0\n",
            "Predicted output:[1]  \t33.8\n",
            "Predicted output:[2]  \t35.6\n",
            "Predicted output:[3]  \t37.4\n",
            "Predicted output:[4]  \t39.2\n",
            "-----------------------------------------\n"
          ]
        }
      ]
    },
    {
      "cell_type": "code",
      "metadata": {
        "id": "CVh5bkrVPwG5",
        "colab": {
          "base_uri": "https://localhost:8080/"
        },
        "outputId": "6b1d816c-d16d-4d38-9767-0b65fc9c57bc"
      },
      "source": [
        "f = np.array([[32],[33.8],[35.6],[37.4],[39.2]])\n",
        "y_target = [0, 1, 2, 3, 4]\n",
        "alpha = 1e-3\n",
        "\n",
        "w = findW(f, y_target, alpha)\n",
        "\n",
        "testSinglePerceptron(f, w, \"F to C\")"
      ],
      "execution_count": null,
      "outputs": [
        {
          "output_type": "stream",
          "name": "stdout",
          "text": [
            "-----------------------------------------\n",
            "Train\n",
            "-----------------------------------------\n",
            "Initial weight:[-1  0]\n",
            "-----------------------------------------\n",
            "Final weight:[-17.64251058   0.5512982 ] Epoch:1136450\n",
            "-----------------------------------------\n",
            "-----------------------------------------\n",
            "Test Single Perceptron F to C\n",
            "-----------------------------------------\n",
            "Predicted output:[32.]  \t-0.0\n",
            "Predicted output:[33.8]  \t1.0\n",
            "Predicted output:[35.6]  \t2.0\n",
            "Predicted output:[37.4]  \t3.0\n",
            "Predicted output:[39.2]  \t4.0\n",
            "-----------------------------------------\n"
          ]
        }
      ]
    },
    {
      "cell_type": "markdown",
      "metadata": {
        "id": "Dng_oiajDf_Y"
      },
      "source": [
        "# ANN using Keras"
      ]
    },
    {
      "cell_type": "code",
      "metadata": {
        "id": "56TCrcBKzw18",
        "colab": {
          "base_uri": "https://localhost:8080/",
          "height": 498
        },
        "outputId": "b8d2216e-571d-4199-fac6-fa49ccbe5e65"
      },
      "source": [
        "import tensorflow as tf\n",
        "import numpy as np\n",
        "import matplotlib.pyplot as plt\n",
        "\n",
        "def testNeural(model, f, name):\n",
        "  print(\"-----------------------------------------\")\n",
        "  print(\"Test Neural {}\".format(name))\n",
        "  print(\"-----------------------------------------\")\n",
        "  for i in f:\n",
        "    y_star = model.predict(np.array([i]))\n",
        "    print(\"Predicted output:{}  \\t{:.1f}\".format(i, y_star[0][0]))\n",
        "  print(\"-----------------------------------------\")\n",
        "\n",
        "\n",
        "celsius_q    = np.array([0, 1,  2,  3, 4])\n",
        "fahrenheit_a = np.array([32, 33.8, 35.6, 37.4, 39.2])\n",
        "\n",
        "l0 = tf.keras.layers.Dense(units=1, input_shape=[1])\n",
        "model = tf.keras.Sequential([l0])\n",
        "\n",
        "model.compile(loss='mean_squared_error', optimizer=tf.keras.optimizers.SGD(learning_rate=1e-2))\n",
        "history = model.fit(celsius_q, fahrenheit_a, epochs=3000, verbose=False)\n",
        "print(\"Finished training the model\")\n",
        "print(\"These are the layer variables: {}\".format(l0.get_weights()))\n",
        "\n",
        "print(testNeural(model, celsius_q, \"C to F\"))\n",
        "\n",
        "plt.xlabel('Epoch Number')\n",
        "plt.ylabel(\"Loss Magnitude\")\n",
        "plt.plot(history.history['loss'])\n"
      ],
      "execution_count": null,
      "outputs": [
        {
          "output_type": "stream",
          "name": "stdout",
          "text": [
            "Finished training the model\n",
            "These are the layer variables: [array([[1.8000498]], dtype=float32), array([31.999853], dtype=float32)]\n",
            "-----------------------------------------\n",
            "Test Neural C to F\n",
            "-----------------------------------------\n",
            "Predicted output:0  \t32.0\n",
            "Predicted output:1  \t33.8\n",
            "Predicted output:2  \t35.6\n",
            "Predicted output:3  \t37.4\n",
            "Predicted output:4  \t39.2\n",
            "-----------------------------------------\n",
            "None\n"
          ]
        },
        {
          "output_type": "execute_result",
          "data": {
            "text/plain": [
              "[<matplotlib.lines.Line2D at 0x7fe744829950>]"
            ]
          },
          "metadata": {},
          "execution_count": 9
        },
        {
          "output_type": "display_data",
          "data": {
            "image/png": "[encoded data removed]",
            "text/plain": [
              "<Figure size 432x288 with 1 Axes>"
            ]
          },
          "metadata": {
            "needs_background": "light"
          }
        }
      ]
    },
    {
      "cell_type": "code",
      "metadata": {
        "id": "Ob1pa1cT1WHw"
      },
      "source": [
        "l0 = tf.keras.layers.Dense(units=1, input_shape=[1])\n",
        "l1 = tf.keras.layers.Dense(units=2)\n",
        "\n",
        "model = tf.keras.Sequential([l0,l1])\n",
        "model.compile(loss='mean_squared_error', optimizer=tf.keras.optimizers.SGD(learning_rate=1e-3)) \n",
        "history = model.fit(celsius_q,fahrenheit_a, epochs=500, verbose=False)\n",
        "print(\"Finished trining the model\")\n",
        "print(\"These are the l0 variables: {}\".format(l0.get_weights()))\n",
        "print(\"These are the l1 variables: {}\".format(l1.get_weights()))\n",
        "\n",
        "print(testNeural(model, celsius_q, \"C to F\"))\n",
        "\n",
        "\n",
        "plt.xlabel('Epoch Number')\n",
        "plt.ylabel(\"Loss Magnitude\")\n",
        "plt.plot(history.history['loss'])\n"
      ],
      "execution_count": null,
      "outputs": []
    },
    {
      "cell_type": "markdown",
      "metadata": {
        "id": "lOR-Cyq8qH7m"
      },
      "source": [
        "# LAB 09\n",
        "1. Use keras for implement F to C converter\n",
        "2. Use keras for implement XOR Gate"
      ]
    },
    {
      "cell_type": "code",
      "metadata": {
        "id": "3UVyGIqBMvJv"
      },
      "source": [
        "#Juntorn Thiantanukij 2021610213\n",
        "from keras.models import Sequential\n",
        "from keras.layers.core import Dense"
      ],
      "execution_count": null,
      "outputs": []
    },
    {
      "cell_type": "code",
      "metadata": {
        "id": "it85F0SBqQ9c",
        "colab": {
          "base_uri": "https://localhost:8080/"
        },
        "outputId": "3333777d-f4e4-416a-c41c-3fb78b96dbb8"
      },
      "source": [
        "#1. F to C Converter\n",
        "\n",
        "def newtestNeural(model, f, name):\n",
        "  print(\"-----------------------------------------\")\n",
        "  print(\"Test Neural {}\".format(name))\n",
        "  print(\"-----------------------------------------\")\n",
        "  for i in f:\n",
        "    y_star = model.predict(np.array([i]))\n",
        "    print(\"Predicted output:{}  \\t{:.1f}\".format(i, y_star[0][0]))\n",
        "  print(\"-----------------------------------------\")\n",
        "\n",
        "celsius_q    = np.array([0, 1,  2,  3, 4], dtype=float)\n",
        "fahrenheit_a = np.array([32, 33.8, 35.6, 37.4, 39.2], dtype=float)\n",
        "\n",
        "l0 = tf.keras.layers.Dense(units=1000000, input_shape=[1])\n",
        "l1 = tf.keras.layers.Dense(units=1)\n",
        "model = tf.keras.Sequential([l0,l1])\n",
        "\n",
        "model.compile(loss='mean_squared_error', optimizer=tf.keras.optimizers.Adam(1e-4), metrics=['mean_squared_error'])\n",
        "history = model.fit(fahrenheit_a, celsius_q, epochs=3500, verbose=False)\n",
        "print(\"Finished training the model\")\n",
        "\n",
        "#print(\"These are the l0 variables: {}\".format(l0.get_weights()))\n",
        "#print(\"\")\n",
        "#print(\"These are the l1 variables: {}\".format(l1.get_weights()))\n",
        "\n",
        "print(newtestNeural(model, fahrenheit_a, \"F to C\"))\n",
        "\n",
        "plt.xlabel('Epoch Number')\n",
        "plt.ylabel(\"Loss Magnitude\")\n",
        "plt.plot(history.history['loss'])\n"
      ],
      "execution_count": null,
      "outputs": [
        {
          "output_type": "stream",
          "name": "stdout",
          "text": [
            "Finished training the model\n",
            "-----------------------------------------\n",
            "Test Neural F to C\n",
            "-----------------------------------------\n",
            "Predicted output:32.0  \t0.0\n",
            "Predicted output:33.8  \t1.0\n",
            "Predicted output:35.6  \t2.0\n",
            "Predicted output:37.4  \t3.0\n",
            "Predicted output:39.2  \t4.0\n",
            "-----------------------------------------\n",
            "None\n"
          ]
        },
        {
          "output_type": "execute_result",
          "data": {
            "text/plain": [
              "[<matplotlib.lines.Line2D at 0x7fe73df9bb90>]"
            ]
          },
          "metadata": {},
          "execution_count": 85
        },
        {
          "output_type": "display_data",
          "data": {
            "image/png": "[encoded data removed]",
            "text/plain": [
              "<Figure size 432x288 with 1 Axes>"
            ]
          },
          "metadata": {
            "needs_background": "light"
          }
        }
      ]
    },
    {
      "cell_type": "code",
      "metadata": {
        "colab": {
          "base_uri": "https://localhost:8080/",
          "height": 1000
        },
        "id": "xbYf27r2z3WW",
        "outputId": "56ec9fc7-e901-4050-a609-276c572fafa9"
      },
      "source": [
        "# XOR Gate\n",
        "f = np.array([[0,0],[0,1],[1,0],[1,1]], \"float32\")\n",
        "y = np.array([[0],[1],[1],[0]], \"float32\")\n",
        "\n",
        "model = Sequential()\n",
        "#model.add(Dense(units=1000000, input_dim=2, activation='relu'))\n",
        "model.add(Dense(units=10000000, input_dim=2, activation='relu'))\n",
        "model.add(Dense(units=1, activation='sigmoid'))\n",
        "#model.add(Dense(units=1, activation='tanh'))\n",
        "\n",
        "model.compile(loss='mean_squared_error', optimizer='adam', metrics=['binary_accuracy'])\n",
        "\n",
        "history = model.fit(f, y, epochs=100)\n",
        "print(model.predict(f).round())\n",
        "\n",
        "plt.xlabel('Epoch Number')\n",
        "plt.ylabel(\"Loss Magnitude\")\n",
        "plt.plot(history.history['loss'])\n"
      ],
      "execution_count": null,
      "outputs": [
        {
          "output_type": "stream",
          "name": "stdout",
          "text": [
            "Epoch 1/100\n",
            "1/1 [==============================] - 1s 945ms/step - loss: 0.2500 - binary_accuracy: 0.7500\n",
            "Epoch 2/100\n",
            "1/1 [==============================] - 0s 363ms/step - loss: 0.4073 - binary_accuracy: 0.5000\n",
            "Epoch 3/100\n",
            "1/1 [==============================] - 0s 423ms/step - loss: 0.1718 - binary_accuracy: 0.7500\n",
            "Epoch 4/100\n",
            "1/1 [==============================] - 0s 360ms/step - loss: 0.2261 - binary_accuracy: 0.5000\n",
            "Epoch 5/100\n",
            "1/1 [==============================] - 0s 379ms/step - loss: 0.0511 - binary_accuracy: 1.0000\n",
            "Epoch 6/100\n",
            "1/1 [==============================] - 0s 372ms/step - loss: 0.1159 - binary_accuracy: 0.7500\n",
            "Epoch 7/100\n",
            "1/1 [==============================] - 0s 368ms/step - loss: 0.0292 - binary_accuracy: 1.0000\n",
            "Epoch 8/100\n",
            "1/1 [==============================] - 0s 376ms/step - loss: 0.0057 - binary_accuracy: 1.0000\n",
            "Epoch 9/100\n",
            "1/1 [==============================] - 0s 376ms/step - loss: 6.4643e-04 - binary_accuracy: 1.0000\n",
            "Epoch 10/100\n",
            "1/1 [==============================] - 0s 363ms/step - loss: 6.5296e-05 - binary_accuracy: 1.0000\n",
            "Epoch 11/100\n",
            "1/1 [==============================] - 0s 375ms/step - loss: 3.5561e-05 - binary_accuracy: 1.0000\n",
            "Epoch 12/100\n",
            "1/1 [==============================] - 0s 384ms/step - loss: 1.0410e-04 - binary_accuracy: 1.0000\n",
            "Epoch 13/100\n",
            "1/1 [==============================] - 0s 369ms/step - loss: 3.4616e-04 - binary_accuracy: 1.0000\n",
            "Epoch 14/100\n",
            "1/1 [==============================] - 0s 367ms/step - loss: 8.7959e-04 - binary_accuracy: 1.0000\n",
            "Epoch 15/100\n",
            "1/1 [==============================] - 0s 370ms/step - loss: 0.0010 - binary_accuracy: 1.0000\n",
            "Epoch 16/100\n",
            "1/1 [==============================] - 0s 366ms/step - loss: 5.4526e-04 - binary_accuracy: 1.0000\n",
            "Epoch 17/100\n",
            "1/1 [==============================] - 0s 374ms/step - loss: 2.0918e-04 - binary_accuracy: 1.0000\n",
            "Epoch 18/100\n",
            "1/1 [==============================] - 0s 359ms/step - loss: 7.7224e-05 - binary_accuracy: 1.0000\n",
            "Epoch 19/100\n",
            "1/1 [==============================] - 0s 373ms/step - loss: 3.1166e-05 - binary_accuracy: 1.0000\n",
            "Epoch 20/100\n",
            "1/1 [==============================] - 0s 369ms/step - loss: 1.4144e-05 - binary_accuracy: 1.0000\n",
            "Epoch 21/100\n",
            "1/1 [==============================] - 0s 367ms/step - loss: 7.3493e-06 - binary_accuracy: 1.0000\n",
            "Epoch 22/100\n",
            "1/1 [==============================] - 0s 371ms/step - loss: 4.1034e-06 - binary_accuracy: 1.0000\n",
            "Epoch 23/100\n",
            "1/1 [==============================] - 0s 370ms/step - loss: 2.3903e-06 - binary_accuracy: 1.0000\n",
            "Epoch 24/100\n",
            "1/1 [==============================] - 0s 361ms/step - loss: 1.4317e-06 - binary_accuracy: 1.0000\n",
            "Epoch 25/100\n",
            "1/1 [==============================] - 0s 377ms/step - loss: 8.8009e-07 - binary_accuracy: 1.0000\n",
            "Epoch 26/100\n",
            "1/1 [==============================] - 0s 364ms/step - loss: 5.5620e-07 - binary_accuracy: 1.0000\n",
            "Epoch 27/100\n",
            "1/1 [==============================] - 0s 368ms/step - loss: 3.6170e-07 - binary_accuracy: 1.0000\n",
            "Epoch 28/100\n",
            "1/1 [==============================] - 0s 372ms/step - loss: 2.4217e-07 - binary_accuracy: 1.0000\n",
            "Epoch 29/100\n",
            "1/1 [==============================] - 0s 371ms/step - loss: 1.6680e-07 - binary_accuracy: 1.0000\n",
            "Epoch 30/100\n",
            "1/1 [==============================] - 0s 370ms/step - loss: 1.1813e-07 - binary_accuracy: 1.0000\n",
            "Epoch 31/100\n",
            "1/1 [==============================] - 0s 362ms/step - loss: 8.5880e-08 - binary_accuracy: 1.0000\n",
            "Epoch 32/100\n",
            "1/1 [==============================] - 0s 358ms/step - loss: 6.4029e-08 - binary_accuracy: 1.0000\n",
            "Epoch 33/100\n",
            "1/1 [==============================] - 0s 372ms/step - loss: 4.8878e-08 - binary_accuracy: 1.0000\n",
            "Epoch 34/100\n",
            "1/1 [==============================] - 0s 359ms/step - loss: 3.8144e-08 - binary_accuracy: 1.0000\n",
            "Epoch 35/100\n",
            "1/1 [==============================] - 0s 376ms/step - loss: 3.0375e-08 - binary_accuracy: 1.0000\n",
            "Epoch 36/100\n",
            "1/1 [==============================] - 0s 365ms/step - loss: 2.4651e-08 - binary_accuracy: 1.0000\n",
            "Epoch 37/100\n",
            "1/1 [==============================] - 0s 365ms/step - loss: 2.0362e-08 - binary_accuracy: 1.0000\n",
            "Epoch 38/100\n",
            "1/1 [==============================] - 0s 364ms/step - loss: 1.7090e-08 - binary_accuracy: 1.0000\n",
            "Epoch 39/100\n",
            "1/1 [==============================] - 0s 371ms/step - loss: 1.4565e-08 - binary_accuracy: 1.0000\n",
            "Epoch 40/100\n",
            "1/1 [==============================] - 0s 378ms/step - loss: 1.2574e-08 - binary_accuracy: 1.0000\n",
            "Epoch 41/100\n",
            "1/1 [==============================] - 0s 378ms/step - loss: 1.1002e-08 - binary_accuracy: 1.0000\n",
            "Epoch 42/100\n",
            "1/1 [==============================] - 0s 361ms/step - loss: 9.7435e-09 - binary_accuracy: 1.0000\n",
            "Epoch 43/100\n",
            "1/1 [==============================] - 0s 373ms/step - loss: 8.7151e-09 - binary_accuracy: 1.0000\n",
            "Epoch 44/100\n",
            "1/1 [==============================] - 0s 380ms/step - loss: 7.8757e-09 - binary_accuracy: 1.0000\n",
            "Epoch 45/100\n",
            "1/1 [==============================] - 0s 364ms/step - loss: 7.1780e-09 - binary_accuracy: 1.0000\n",
            "Epoch 46/100\n",
            "1/1 [==============================] - 0s 361ms/step - loss: 6.5904e-09 - binary_accuracy: 1.0000\n",
            "Epoch 47/100\n",
            "1/1 [==============================] - 0s 372ms/step - loss: 6.1010e-09 - binary_accuracy: 1.0000\n",
            "Epoch 48/100\n",
            "1/1 [==============================] - 0s 360ms/step - loss: 5.6842e-09 - binary_accuracy: 1.0000\n",
            "Epoch 49/100\n",
            "1/1 [==============================] - 0s 376ms/step - loss: 5.3363e-09 - binary_accuracy: 1.0000\n",
            "Epoch 50/100\n",
            "1/1 [==============================] - 0s 359ms/step - loss: 5.0343e-09 - binary_accuracy: 1.0000\n",
            "Epoch 51/100\n",
            "1/1 [==============================] - 0s 366ms/step - loss: 4.7742e-09 - binary_accuracy: 1.0000\n",
            "Epoch 52/100\n",
            "1/1 [==============================] - 0s 369ms/step - loss: 4.5490e-09 - binary_accuracy: 1.0000\n",
            "Epoch 53/100\n",
            "1/1 [==============================] - 0s 366ms/step - loss: 4.3530e-09 - binary_accuracy: 1.0000\n",
            "Epoch 54/100\n",
            "1/1 [==============================] - 0s 370ms/step - loss: 4.1891e-09 - binary_accuracy: 1.0000\n",
            "Epoch 55/100\n",
            "1/1 [==============================] - 0s 379ms/step - loss: 4.0367e-09 - binary_accuracy: 1.0000\n",
            "Epoch 56/100\n",
            "1/1 [==============================] - 0s 361ms/step - loss: 3.9057e-09 - binary_accuracy: 1.0000\n",
            "Epoch 57/100\n",
            "1/1 [==============================] - 0s 370ms/step - loss: 3.7850e-09 - binary_accuracy: 1.0000\n",
            "Epoch 58/100\n",
            "1/1 [==============================] - 0s 370ms/step - loss: 3.6872e-09 - binary_accuracy: 1.0000\n",
            "Epoch 59/100\n",
            "1/1 [==============================] - 0s 371ms/step - loss: 3.5957e-09 - binary_accuracy: 1.0000\n",
            "Epoch 60/100\n",
            "1/1 [==============================] - 0s 394ms/step - loss: 3.5160e-09 - binary_accuracy: 1.0000\n",
            "Epoch 61/100\n",
            "1/1 [==============================] - 0s 365ms/step - loss: 3.4421e-09 - binary_accuracy: 1.0000\n",
            "Epoch 62/100\n",
            "1/1 [==============================] - 0s 365ms/step - loss: 3.3835e-09 - binary_accuracy: 1.0000\n",
            "Epoch 63/100\n",
            "1/1 [==============================] - 0s 371ms/step - loss: 3.3213e-09 - binary_accuracy: 1.0000\n",
            "Epoch 64/100\n",
            "1/1 [==============================] - 0s 363ms/step - loss: 3.2747e-09 - binary_accuracy: 1.0000\n",
            "Epoch 65/100\n",
            "1/1 [==============================] - 0s 373ms/step - loss: 3.2298e-09 - binary_accuracy: 1.0000\n",
            "Epoch 66/100\n",
            "1/1 [==============================] - 0s 373ms/step - loss: 3.1913e-09 - binary_accuracy: 1.0000\n",
            "Epoch 67/100\n",
            "1/1 [==============================] - 0s 365ms/step - loss: 3.1523e-09 - binary_accuracy: 1.0000\n",
            "Epoch 68/100\n",
            "1/1 [==============================] - 0s 381ms/step - loss: 3.1209e-09 - binary_accuracy: 1.0000\n",
            "Epoch 69/100\n",
            "1/1 [==============================] - 0s 361ms/step - loss: 3.0916e-09 - binary_accuracy: 1.0000\n",
            "Epoch 70/100\n",
            "1/1 [==============================] - 0s 363ms/step - loss: 3.0625e-09 - binary_accuracy: 1.0000\n",
            "Epoch 71/100\n",
            "1/1 [==============================] - 0s 383ms/step - loss: 3.0440e-09 - binary_accuracy: 1.0000\n",
            "Epoch 72/100\n",
            "1/1 [==============================] - 0s 373ms/step - loss: 3.0204e-09 - binary_accuracy: 1.0000\n",
            "Epoch 73/100\n",
            "1/1 [==============================] - 0s 379ms/step - loss: 3.0014e-09 - binary_accuracy: 1.0000\n",
            "Epoch 74/100\n",
            "1/1 [==============================] - 0s 369ms/step - loss: 2.9799e-09 - binary_accuracy: 1.0000\n",
            "Epoch 75/100\n",
            "1/1 [==============================] - 0s 360ms/step - loss: 2.9662e-09 - binary_accuracy: 1.0000\n",
            "Epoch 76/100\n",
            "1/1 [==============================] - 0s 358ms/step - loss: 2.9519e-09 - binary_accuracy: 1.0000\n",
            "Epoch 77/100\n",
            "1/1 [==============================] - 0s 371ms/step - loss: 2.9422e-09 - binary_accuracy: 1.0000\n",
            "Epoch 78/100\n",
            "1/1 [==============================] - 0s 371ms/step - loss: 2.9267e-09 - binary_accuracy: 1.0000\n",
            "Epoch 79/100\n",
            "1/1 [==============================] - 0s 369ms/step - loss: 2.9171e-09 - binary_accuracy: 1.0000\n",
            "Epoch 80/100\n",
            "1/1 [==============================] - 0s 366ms/step - loss: 2.9074e-09 - binary_accuracy: 1.0000\n",
            "Epoch 81/100\n",
            "1/1 [==============================] - 0s 366ms/step - loss: 2.8984e-09 - binary_accuracy: 1.0000\n",
            "Epoch 82/100\n",
            "1/1 [==============================] - 0s 370ms/step - loss: 2.8932e-09 - binary_accuracy: 1.0000\n",
            "Epoch 83/100\n",
            "1/1 [==============================] - 0s 370ms/step - loss: 2.8843e-09 - binary_accuracy: 1.0000\n",
            "Epoch 84/100\n",
            "1/1 [==============================] - 0s 364ms/step - loss: 2.8753e-09 - binary_accuracy: 1.0000\n",
            "Epoch 85/100\n",
            "1/1 [==============================] - 0s 371ms/step - loss: 2.8728e-09 - binary_accuracy: 1.0000\n",
            "Epoch 86/100\n",
            "1/1 [==============================] - 0s 365ms/step - loss: 2.8683e-09 - binary_accuracy: 1.0000\n",
            "Epoch 87/100\n",
            "1/1 [==============================] - 0s 368ms/step - loss: 2.8613e-09 - binary_accuracy: 1.0000\n",
            "Epoch 88/100\n",
            "1/1 [==============================] - 0s 380ms/step - loss: 2.8587e-09 - binary_accuracy: 1.0000\n",
            "Epoch 89/100\n",
            "1/1 [==============================] - 0s 371ms/step - loss: 2.8561e-09 - binary_accuracy: 1.0000\n",
            "Epoch 90/100\n",
            "1/1 [==============================] - 0s 368ms/step - loss: 2.8498e-09 - binary_accuracy: 1.0000\n",
            "Epoch 91/100\n",
            "1/1 [==============================] - 0s 370ms/step - loss: 2.8472e-09 - binary_accuracy: 1.0000\n",
            "Epoch 92/100\n",
            "1/1 [==============================] - 0s 362ms/step - loss: 2.8472e-09 - binary_accuracy: 1.0000\n",
            "Epoch 93/100\n",
            "1/1 [==============================] - 0s 369ms/step - loss: 2.8421e-09 - binary_accuracy: 1.0000\n",
            "Epoch 94/100\n",
            "1/1 [==============================] - 0s 372ms/step - loss: 2.8383e-09 - binary_accuracy: 1.0000\n",
            "Epoch 95/100\n",
            "1/1 [==============================] - 0s 363ms/step - loss: 2.8396e-09 - binary_accuracy: 1.0000\n",
            "Epoch 96/100\n",
            "1/1 [==============================] - 0s 390ms/step - loss: 2.8351e-09 - binary_accuracy: 1.0000\n",
            "Epoch 97/100\n",
            "1/1 [==============================] - 0s 389ms/step - loss: 2.8332e-09 - binary_accuracy: 1.0000\n",
            "Epoch 98/100\n",
            "1/1 [==============================] - 0s 361ms/step - loss: 2.8332e-09 - binary_accuracy: 1.0000\n",
            "Epoch 99/100\n",
            "1/1 [==============================] - 0s 374ms/step - loss: 2.8314e-09 - binary_accuracy: 1.0000\n",
            "Epoch 100/100\n",
            "1/1 [==============================] - 0s 369ms/step - loss: 2.8269e-09 - binary_accuracy: 1.0000\n",
            "[[0.]\n",
            " [1.]\n",
            " [1.]\n",
            " [0.]]\n"
          ]
        },
        {
          "output_type": "execute_result",
          "data": {
            "text/plain": [
              "[<matplotlib.lines.Line2D at 0x7fe748825490>]"
            ]
          },
          "metadata": {},
          "execution_count": 8
        },
        {
          "output_type": "display_data",
          "data": {
            "image/png": "[encoded data removed]",
            "text/plain": [
              "<Figure size 432x288 with 1 Axes>"
            ]
          },
          "metadata": {
            "needs_background": "light"
          }
        }
      ]
    }
  ]
}