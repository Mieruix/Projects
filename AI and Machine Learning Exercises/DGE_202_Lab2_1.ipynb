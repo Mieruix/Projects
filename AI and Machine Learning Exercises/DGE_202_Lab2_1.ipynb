{
  "nbformat": 4,
  "nbformat_minor": 0,
  "metadata": {
    "colab": {
      "provenance": [],
      "collapsed_sections": []
    },
    "kernelspec": {
      "name": "python3",
      "display_name": "Python 3"
    },
    "language_info": {
      "name": "python"
    }
  },
  "cells": [
    {
      "cell_type": "code",
      "metadata": {
        "id": "LSkVXWvEjhOQ",
        "colab": {
          "base_uri": "https://localhost:8080/"
        },
        "outputId": "910b193c-fb32-46b9-f18c-0cbee1aebef5"
      },
      "source": [
        "# Juntorn Thiantanukij 2021610213\n",
        "# Volume of Cuboid, Cylinder, and Sphere\n",
        "\n",
        "import math\n",
        "class volume:\n",
        "\n",
        "    def volume(x, y = None, z = None):\n",
        "      if (y == None and z == None):\n",
        "        sphere = ((4 * (math.pi) * (x ** 3)) / (3))\n",
        "        return sphere\n",
        "\n",
        "      elif (z == None):\n",
        "        cylinder = ((math.pi)*x*x*y)\n",
        "        return cylinder\n",
        "\n",
        "      else:\n",
        "        cuboid = (x*y*z)\n",
        "        return cuboid\n",
        "\n",
        "    print('Volume of Cuboid (width, length, height):')\n",
        "    print(volume(2, 3, 4))\n",
        "    print('')\n",
        "    print('Volume of Cylinder (radius, height):')\n",
        "    print(volume(2, 9))\n",
        "    print('')\n",
        "    print('Volume of Sphere (radius):')\n",
        "    print(volume(2))\n"
      ],
      "execution_count": null,
      "outputs": [
        {
          "output_type": "stream",
          "text": [
            "Volume of Cuboid (width, length, height):\n",
            "24\n",
            "\n",
            "Volume of Cylinder (radius, height):\n",
            "113.09733552923255\n",
            "\n",
            "Volume of Sphere (radius):\n",
            "33.510321638291124\n"
          ],
          "name": "stdout"
        }
      ]
    }
  ]
}