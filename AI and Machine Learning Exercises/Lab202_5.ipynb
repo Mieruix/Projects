{
  "nbformat": 4,
  "nbformat_minor": 0,
  "metadata": {
    "colab": {
      "provenance": [],
      "collapsed_sections": []
    },
    "kernelspec": {
      "name": "python3",
      "display_name": "Python 3"
    },
    "language_info": {
      "name": "python"
    }
  },
  "cells": [
    {
      "cell_type": "markdown",
      "metadata": {
        "id": "7wNf6nceOZd7"
      },
      "source": [
        "According to the Lab Handout;\n",
        "\n",
        "Rewrite version below"
      ]
    },
    {
      "cell_type": "code",
      "metadata": {
        "id": "K6LHLlKPjWa6"
      },
      "source": [
        "%matplotlib inline\n",
        "import matplotlib.pyplot as plt\n",
        "import random\n",
        "import heapq\n",
        "import math\n",
        "import sys\n",
        "from collections import defaultdict, deque, Counter\n",
        "from itertools import combinations\n",
        "\n",
        "class Problem(object):\n",
        "  def __init__(self, initial=None, goal=None, **kwds):\n",
        "    self.__dict__.update(initial=initial, goal=goal, **kwds)\n",
        "  def actions(self, state): raise NotImplementedError\n",
        "  def result(self, state, action): raise NotImplementedError\n",
        "  def is_goal(self, state): return state == self.goal\n",
        "  def action_cost(self, s, a, s1): return 1\n",
        "  def h(self, node): return 0\n",
        "\n",
        "  def __str__(self):\n",
        "    return '{}({!r}, {!r})'.format(\n",
        "      type(self).__name__, self.initial, self.goal)"
      ],
      "execution_count": null,
      "outputs": []
    },
    {
      "cell_type": "code",
      "metadata": {
        "id": "2Qzt3MHxjvPM"
      },
      "source": [
        "class Node:\n",
        "  \"A Node in a search tree.\"\n",
        "  def __init__(self, state, parent=None, action=None, path_cost=0):\n",
        "    self.__dict__.update(state=state, parent=parent, action=action,\n",
        "path_cost=path_cost)\n",
        "    \n",
        "  def __repr__(self): return '<{}>'.format(self.state)\n",
        "  def __len__(self): return 0 if self.parent is None else (1 + len(self.parent))\n",
        "  def __lt__(self, other): return self.path_cost < other.path_cost\n",
        "\n",
        "failure = Node('failure', path_cost=math.inf)\n",
        "cutoff = Node('cutoff', path_cost=math.inf)\n",
        "\n",
        "def expand(problem, node):\n",
        "  \"Expand a node, generating the children nodes.\"\n",
        "  s = node.state\n",
        "  for action in problem.actions(s):\n",
        "    s1 = problem.result(s, action)\n",
        "    cost = node.path_cost + problem.action_cost(s, action, s1)\n",
        "    yield Node(s1, node, action, cost)\n",
        "\n",
        "def path_actions(node):\n",
        "  \"The sequence of actions to get to this node.\"\n",
        "  if node.parent is None:\n",
        "    return []\n",
        "  return path_actions(node.parent) + [node.action]\n",
        "\n",
        "def path_states(node):\n",
        "  \"The sequence of states to get to this node.\"\n",
        "  if node in (cutoff, failure, None):\n",
        "    return []\n",
        "  return path_states(node.parent) + [node.state]"
      ],
      "execution_count": null,
      "outputs": []
    },
    {
      "cell_type": "code",
      "metadata": {
        "id": "rktmLab3kJcu"
      },
      "source": [
        "FIFOQueue = deque\n",
        "LIFOQueue = list\n",
        "\n",
        "class PriorityQueue:\n",
        "\n",
        "  def __init__(self, items=(), key=lambda x: x):\n",
        "    self.key = key\n",
        "    self.items = [] # a heap of (score, item) pairs\n",
        "    for item in items:\n",
        "      self.add(item)\n",
        "\n",
        "  def add(self, item):\n",
        "    pair = (self.key(item), item)\n",
        "    heapq.heappush(self.items, pair)\n",
        "\n",
        "  def pop(self):\n",
        "    \"\"\"Pop and return the item with min f(item) value.\"\"\"\n",
        "    return heapq.heappop(self.items)[1]\n",
        "\n",
        "  def top(self):\n",
        "    return self.items[0][1]\n",
        "\n",
        "  def __len__(self):\n",
        "    return len(self.items)"
      ],
      "execution_count": null,
      "outputs": []
    },
    {
      "cell_type": "code",
      "metadata": {
        "id": "SPzzn3ack4EC"
      },
      "source": [
        "def best_first_search(problem, f):\n",
        "  \"Search nodes with minimum f(node) value first.\"\n",
        "  node = Node(problem.initial)\n",
        "  frontier = PriorityQueue([node], key=f)\n",
        "  reached = {problem.initial: node}\n",
        "  while frontier:\n",
        "    node = frontier.pop()\n",
        "    if problem.is_goal(node.state):\n",
        "      return node\n",
        "\n",
        "    for child in expand(problem, node):\n",
        "      s = child.state\n",
        "      if s not in reached or child.path_cost < reached[s].path_cost:\n",
        "        reached[s] = child\n",
        "        frontier.add(child)\n",
        "  return failure\n",
        "\n",
        "def g(n): return n.path_cost\n",
        "\n",
        "def depth_first_search(problem):\n",
        "  \"Search deepest nodes in the search tree first; using best-first.\"\n",
        "  return best_first_search(problem, f=lambda n: -len(n))\n",
        "\n",
        "def breadth_first_search(problem):\n",
        "  \"Search shallowest nodes in the search tree first; using best-first.\"\n",
        "  return best_first_search(problem, f=len)\n",
        "\n",
        "def uniform_cost_search(problem):\n",
        "  \"Search nodes with minimum path cost first.\"\n",
        "  return best_first_search(problem, f=g)\n",
        "\n",
        "def a_search(problem):\n",
        "  \"Straight-line distance between state and the goal.\"\n",
        "  return best_first_search(problem, f=lambda n: g(n) + problem.h(n))"
      ],
      "execution_count": null,
      "outputs": []
    },
    {
      "cell_type": "code",
      "metadata": {
        "id": "hnU1Pi-ywBHJ"
      },
      "source": [
        "class RouteProblem(Problem):\n",
        "\n",
        "  def actions(self, state):\n",
        "    \"\"\"The places neighboring `state`.\"\"\"\n",
        "    return self.map.neighbors[state]\n",
        "    \n",
        "  def result(self, state, action):\n",
        "    \"\"\"Go to the `action` place, if the map says that is possible.\"\"\"\n",
        "    return action if action in self.map.neighbors[state] else state\n",
        "\n",
        "  def action_cost(self, s, action, s1):\n",
        "    \"\"\"The distance (cost) to go from s to s1.\"\"\"\n",
        "    return self.map.distances[s, s1]\n",
        "\n",
        "  def h(self, node):\n",
        "    \"Straight-line distance between state and the goal.\"\n",
        "    locs = self.map.locations\n",
        "    return straight_line_distance(locs[node.state], locs[self.goal])\n",
        "\n",
        "def straight_line_distance(A, B):\n",
        "  \"Straight-line distance between two points.\"\n",
        "  return sum(abs(a - b)**2 for (a, b) in zip(A, B)) ** 0.5\n",
        "\n",
        "class Map:\n",
        "  def __init__(self, links, locations=None, directed=False):\n",
        "    if not hasattr(links, 'items'): # Distances are 1 by default\n",
        "      links = {link: 1 for link in links}\n",
        "    if not directed:\n",
        "      for (v1, v2) in list(links):\n",
        "        links[v2, v1] = links[v1, v2]\n",
        "    self.distances = links\n",
        "    self.neighbors = multimap(links)\n",
        "    self.locations = locations or defaultdict(lambda: (0, 0))\n",
        "\n",
        "def multimap(pairs) -> dict:\n",
        "  \"Given (key, val) pairs, make a dict of {key: [val,...]}.\"\n",
        "  result = defaultdict(list)\n",
        "  for key, val in pairs:\n",
        "    result[key].append(val)\n",
        "  return result"
      ],
      "execution_count": null,
      "outputs": []
    },
    {
      "cell_type": "code",
      "metadata": {
        "colab": {
          "base_uri": "https://localhost:8080/"
        },
        "id": "idptz_j7wY3p",
        "outputId": "31e0b629-3c0e-4365-af9d-c4f0381f5b2c"
      },
      "source": [
        "romania = Map(\n",
        "{('O', 'Z'): 71, ('O', 'S'): 151, ('A', 'Z'): 75, ('A', 'S'): 140, ('A', 'T'):\n",
        "118,\n",
        "('L', 'T'): 111, ('L', 'M'): 70, ('D', 'M'): 75, ('C', 'D'): 120, ('C', 'R'):\n",
        "146,\n",
        "('C', 'P'): 138, ('R', 'S'): 80, ('F', 'S'): 99, ('B', 'F'): 211, ('B', 'P'):\n",
        "101,\n",
        "('B', 'G'): 90, ('B', 'U'): 85, ('H', 'U'): 98, ('E', 'H'): 86, ('U', 'V'):\n",
        "142,\n",
        "('I', 'V'): 92, ('I', 'N'): 87, ('P', 'R'): 97},\n",
        "{'A': ( 76, 497), 'B': (400, 327), 'C': (246, 285), 'D': (160, 296), 'E': (558,\n",
        "294),\n",
        "'F': (285, 460), 'G': (368, 257), 'H': (548, 355), 'I': (488, 535), 'L': (162,\n",
        "379),\n",
        "'M': (160, 343), 'N': (407, 561), 'O': (117, 580), 'P': (311, 372), 'R': (227,\n",
        "412),\n",
        "'S': (187, 463), 'T': ( 83, 414), 'U': (471, 363), 'V': (535, 473), 'Z': (92,\n",
        "539)})\n",
        "\n",
        "r1 = RouteProblem('A', 'C', map=romania)\n",
        "\n",
        "print(\"Lowest-cost path from Arad to Criova\")\n",
        "print(path_states(uniform_cost_search(r1)))\n",
        "print(\"BFS\")\n",
        "print(path_states(breadth_first_search(r1)))\n",
        "print(\"DFS\")\n",
        "print(path_states(depth_first_search(r1)))\n",
        "print(\"A* Search\")\n",
        "print(path_states(a_search(r1)))"
      ],
      "execution_count": null,
      "outputs": [
        {
          "output_type": "stream",
          "text": [
            "Lowest-cost path from Arad to Criova\n",
            "['A', 'S', 'R', 'C']\n",
            "BFS\n",
            "['A', 'S', 'R', 'C']\n",
            "DFS\n",
            "['A', 'T', 'L', 'M', 'D', 'C']\n",
            "A* Search\n",
            "['A', 'S', 'R', 'C']\n"
          ],
          "name": "stdout"
        }
      ]
    },
    {
      "cell_type": "markdown",
      "metadata": {
        "id": "wylg_05_OpRX"
      },
      "source": [
        "Rewrite the Function"
      ]
    },
    {
      "cell_type": "code",
      "metadata": {
        "id": "7YrXet9JN0So"
      },
      "source": [
        "def dfs_re(problem):\n",
        "  node = Node(problem.initial)\n",
        "  frontier = LIFOQueue([node])\n",
        "  reached = {problem.initial: node}\n",
        "\n",
        "  while frontier:\n",
        "    node = frontier.pop()\n",
        "    if problem.is_goal(node.state):\n",
        "      return node\n",
        "\n",
        "    for child in expand(problem, node):\n",
        "      s = child.state\n",
        "      if s not in reached or child.path_cost < reached[s].path_cost:\n",
        "        reached[s] = child\n",
        "        frontier.append(child)\n",
        "\n",
        "  return failure\n",
        "\n",
        "\n",
        "def bfs_re(problem):\n",
        "  node = Node(problem.initial)\n",
        "  frontier = FIFOQueue([node])\n",
        "  reached = {problem.initial: node}\n",
        "\n",
        "  while frontier:\n",
        "    node = frontier.pop()\n",
        "    if problem.is_goal(node.state):\n",
        "      return node\n",
        "\n",
        "    for child in expand(problem, node):\n",
        "      s = child.state\n",
        "      if s not in reached or child.path_cost < reached[s].path_cost:\n",
        "        reached[s] = child\n",
        "        frontier.appendleft(child)\n",
        "\n",
        "  return failure\n",
        "\n",
        "\n",
        "def ucs_re(problem):\n",
        "  node = Node(problem.initial)\n",
        "  frontier = PriorityQueue([node], key=g)\n",
        "  reached = {problem.initial: node}\n",
        "\n",
        "  while frontier:\n",
        "    node = frontier.pop()\n",
        "    if problem.is_goal(node.state):\n",
        "      return node\n",
        "\n",
        "    for child in expand(problem, node):\n",
        "      s = child.state\n",
        "      if s not in reached or child.path_cost < reached[s].path_cost:\n",
        "        reached[s] = child\n",
        "        frontier.add(child)\n",
        "        \n",
        "  return failure\n",
        "\n",
        "def a_re(problem):\n",
        "  node = Node(problem.initial)\n",
        "  frontier = PriorityQueue([node], key=lambda n: g(n) + problem.h(n))\n",
        "  reached = {problem.initial: node}\n",
        "\n",
        "  while frontier:\n",
        "    node = frontier.pop()\n",
        "    if problem.is_goal(node.state):\n",
        "      return node\n",
        "\n",
        "    for child in expand(problem, node):\n",
        "      s = child.state\n",
        "      if s not in reached or child.path_cost < reached[s].path_cost:\n",
        "        reached[s] = child\n",
        "        frontier.add(child)"
      ],
      "execution_count": null,
      "outputs": []
    },
    {
      "cell_type": "code",
      "metadata": {
        "colab": {
          "base_uri": "https://localhost:8080/"
        },
        "id": "Q0KJ9VJnQ3VY",
        "outputId": "7cab0302-8ccc-4180-cfeb-c794fd47c20f"
      },
      "source": [
        "print(\"Jamie Juntorn Thiantanukij\")\n",
        "print(\"2021610213\")\n",
        "print(\"\")\n",
        "\n",
        "print(\"Rewrite the function Uniform Cost Search\")\n",
        "print(\"Answer:\")\n",
        "print(path_states(ucs_re(r1)))\n",
        "print(\"\")\n",
        "\n",
        "print(\"Rewrite the function Breadth-First Search\")\n",
        "print(\"Answer:\")\n",
        "print(path_states(bfs_re(r1)))\n",
        "print(\"\")\n",
        "\n",
        "print(\"Rewrite the function Depth-First Search\")\n",
        "print(\"Answer:\")\n",
        "print(path_states(dfs_re(r1)))\n",
        "print(\"\")\n",
        "\n",
        "print(\"Rewrite the function A* Search\")\n",
        "print(\"Answer:\")\n",
        "print(path_states(a_re(r1)))"
      ],
      "execution_count": null,
      "outputs": [
        {
          "output_type": "stream",
          "text": [
            "Jamie Juntorn Thiantanukij\n",
            "2021610213\n",
            "\n",
            "Rewrite the function Uniform Cost Search\n",
            "Answer:\n",
            "['A', 'S', 'R', 'C']\n",
            "\n",
            "Rewrite the function Breadth-First Search\n",
            "Answer:\n",
            "['A', 'S', 'R', 'C']\n",
            "\n",
            "Rewrite the function Depth-First Search\n",
            "Answer:\n",
            "['A', 'T', 'L', 'M', 'D', 'C']\n",
            "\n",
            "Rewrite the function A* Search\n",
            "Answer:\n",
            "['A', 'S', 'R', 'C']\n"
          ],
          "name": "stdout"
        }
      ]
    },
    {
      "cell_type": "code",
      "metadata": {
        "colab": {
          "base_uri": "https://localhost:8080/"
        },
        "id": "uiFepO6EFw-f",
        "outputId": "ff88daf2-370b-4b01-d6e7-e5dc06e94d33"
      },
      "source": [
        "#For Hand Calculation\n",
        "\n",
        "def generate_dist_to_c():\n",
        "  locate = {'A': ( 76, 497), 'B': (400, 327), 'C': (246, 285), 'D': (160, 296), 'E': (558, 294),\n",
        "            'F': (285,460), 'G': (368, 257), 'H': (548, 355), 'I': (488, 535), 'L': (162, 379),\n",
        "            'M': (160, 343), 'N': (407, 561), 'O': (117, 580), 'P': (311, 372), 'R': (227, 412),\n",
        "            'S': (187, 463),'T': ( 83, 414), 'U': (471, 363), 'V': (535, 473), 'Z': (92, 539)}\n",
        "  for i in locate:\n",
        "    print(\"Distance from {} to C : {}\".format(i, straight_line_distance(locate[i], locate['C'])))\n",
        "\n",
        "generate_dist_to_c()"
      ],
      "execution_count": null,
      "outputs": [
        {
          "output_type": "stream",
          "text": [
            "Distance from A to C : 271.7425251961864\n",
            "Distance from B to C : 159.62455951387932\n",
            "Distance from C to C : 0.0\n",
            "Distance from D to C : 86.70063436907483\n",
            "Distance from E to C : 312.1297807002722\n",
            "Distance from F to C : 179.2930561957155\n",
            "Distance from G to C : 125.1718818265508\n",
            "Distance from H to C : 310.00645154577023\n",
            "Distance from I to C : 347.9425239892359\n",
            "Distance from L to C : 126.0634760745554\n",
            "Distance from M to C : 103.73041983911952\n",
            "Distance from N to C : 319.5262117573455\n",
            "Distance from O to C : 321.97204847626136\n",
            "Distance from P to C : 108.60018416190647\n",
            "Distance from R to C : 128.41339493993607\n",
            "Distance from S to C : 187.52333188166213\n",
            "Distance from T to C : 207.87015177749788\n",
            "Distance from U to C : 238.1365154695936\n",
            "Distance from V to C : 344.7680379617577\n",
            "Distance from Z to C : 297.03871801500895\n"
          ],
          "name": "stdout"
        }
      ]
    }
  ]
}