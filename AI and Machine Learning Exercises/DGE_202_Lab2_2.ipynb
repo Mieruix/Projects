{
  "nbformat": 4,
  "nbformat_minor": 0,
  "metadata": {
    "colab": {
      "provenance": [],
      "collapsed_sections": []
    },
    "kernelspec": {
      "name": "python3",
      "display_name": "Python 3"
    },
    "language_info": {
      "name": "python"
    }
  },
  "cells": [
    {
      "cell_type": "code",
      "metadata": {
        "colab": {
          "base_uri": "https://localhost:8080/"
        },
        "id": "K-DVeUf8wEBS",
        "outputId": "40cd0a41-51dc-4ba9-8644-9093674cbab1"
      },
      "source": [
        "# Juntorn Thiantanukij 2021610213\n",
        "# Vector Dunder Method\n",
        "\n",
        "import math\n",
        "class Vector:\n",
        "\n",
        "    def __init__(self, x, y):\n",
        "        self.x = x\n",
        "        self.y = y\n",
        "\n",
        "    def __add__(self, vector):\n",
        "        return Vector(self.x + vector.x, self.y + vector.y)\n",
        "\n",
        "    def __sub__(self, vector):\n",
        "        return Vector(self.x - vector.x, self.y - vector.y)\n",
        "\n",
        "    def __mul__(self, vector):\n",
        "        return self.x * vector.x + self.y * vector.y\n",
        "\n",
        "    vec1 = Vector(0, 6)\n",
        "    vec2 = Vector(0, 6)\n",
        "\n",
        "    vec3 = vec1 + vec2\n",
        "    vec4 = vec1 - vec2\n",
        "    vec5 = vec1 * vec2\n",
        "\n",
        "\n",
        "    print('Vector 1 + Vector 2:')\n",
        "    print(vec3.x, vec3.y)\n",
        "    print('')\n",
        "\n",
        "    print('Vector 1 - Vector 2:')\n",
        "    print(vec4.x, vec4.y)\n",
        "    print('')\n",
        "\n",
        "    print('Vector 1 * Vector 2:')\n",
        "    print(vec5)\n",
        "    print('')\n",
        "\n"
      ],
      "execution_count": null,
      "outputs": [
        {
          "output_type": "stream",
          "text": [
            "Vector 1 + Vector 2:\n",
            "0 12\n",
            "\n",
            "Vector 1 - Vector 2:\n",
            "0 0\n",
            "\n",
            "Vector 1 * Vector 2:\n",
            "36\n",
            "\n"
          ],
          "name": "stdout"
        }
      ]
    }
  ]
}