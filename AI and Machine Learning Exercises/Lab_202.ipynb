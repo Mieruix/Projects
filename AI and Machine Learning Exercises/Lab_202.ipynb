{
  "nbformat": 4,
  "nbformat_minor": 0,
  "metadata": {
    "colab": {
      "provenance": [],
      "collapsed_sections": []
    },
    "kernelspec": {
      "name": "python3",
      "display_name": "Python 3"
    },
    "language_info": {
      "name": "python"
    }
  },
  "cells": [
    {
      "cell_type": "code",
      "metadata": {
        "id": "Dh8Fb75rdQnL"
      },
      "source": [
        "# Juntorn Thiantanukij 2021610213\n",
        "import random"
      ],
      "execution_count": null,
      "outputs": []
    },
    {
      "cell_type": "code",
      "metadata": {
        "id": "AdprS_SDilnA"
      },
      "source": [
        "class Agent(object):\n",
        "  def __init__(self,env):\n",
        "    \"\"\"set up the agent\"\"\"\n",
        "    self.env=env\n",
        "\n",
        "  def go(self,n):\n",
        "      \"\"\"acts for n time steps\"\"\"\n",
        "      raise NotImplementedError(\"go\") # abstract method"
      ],
      "execution_count": null,
      "outputs": []
    },
    {
      "cell_type": "code",
      "metadata": {
        "id": "vB1Q84X-iuXj"
      },
      "source": [
        "class Environment():\n",
        "  def initial_percepts(self):\n",
        "      \"\"\"returns the initial percepts for the agent\"\"\"\n",
        "      raise NotImplementedError(\"initial_percepts\") # abstract method\n",
        "\n",
        "  def do(self,action):\n",
        "      \"\"\"does the action in the environment\n",
        "      returns the next percept \"\"\"\n",
        "      raise NotImplementedError(\"do\") # abstract method"
      ],
      "execution_count": null,
      "outputs": []
    },
    {
      "cell_type": "code",
      "metadata": {
        "id": "H1Q5TzJXi0Wn"
      },
      "source": [
        "\n",
        "class TP_env(Environment):\n",
        "    prices = [234, 234, 234, 234, 255, 255, 275, 275, 211, 211, 211,\n",
        "    234, 234, 234, 234, 199, 199, 275, 275, 234, 234, 234, 234, 255,\n",
        "    255, 260, 260, 265, 265, 265, 265, 270, 270, 255, 255, 260, 260,\n",
        "    265, 265, 150, 150, 265, 265, 270, 270, 255, 255, 260, 260, 265,\n",
        "    265, 265, 265, 270, 270, 211, 211, 255, 255, 260, 260, 265, 265,\n",
        "    260, 265, 270, 270, 205, 255, 255, 260, 260, 265, 265, 265, 265,\n",
        "    270, 270]\n",
        "    max_price_addon = 20 # maximum of random value added to get price\n",
        "\n",
        "    def __init__(self):\n",
        "      \"\"\"paper buying agent\"\"\"\n",
        "      self.time=0\n",
        "      self.stock=0\n",
        "      self.stock_history = [] # memory of the stock history\n",
        "      self.price_history = [] # memory of the price history\n",
        "\n",
        "    def initial_percepts(self):\n",
        "      \"\"\"return initial percepts\"\"\"\n",
        "      self.stock_history.append(self.stock)\n",
        "      price = self.prices[0]+random.randrange(self.max_price_addon)\n",
        "      self.price_history.append(price)\n",
        "      return {'price': price,\n",
        "      'instock': self.stock}\n",
        "\n",
        "    def do(self, action):\n",
        "      \"\"\"does action (buy) and returns percepts (price and instock)\"\"\"\n",
        "      used = pick_from_dist({6:0.1, 5:0.1, 4:0.2, 3:0.3, 2:0.2, 1:0.1})\n",
        "      bought = action['buy']\n",
        "      self.stock = self.stock+bought-used\n",
        "      self.stock_history.append(self.stock)\n",
        "      self.time += 1\n",
        "      price = (self.prices[self.time%len(self.prices)] # repeating pattern\n",
        "              +random.randrange(self.max_price_addon) # plus randomness\n",
        "              +self.time//2) # plus inflation\n",
        "      self.price_history.append(price)\n",
        "      return {'price': price,\n",
        "              'instock': self.stock}"
      ],
      "execution_count": null,
      "outputs": []
    },
    {
      "cell_type": "code",
      "metadata": {
        "id": "uYVY0nkJi5ht"
      },
      "source": [
        "def pick_from_dist(item_prob_dist):\n",
        "  \"\"\" returns a value from a distribution.\n",
        "  item_prob_dist is an item:probability dictionary, where the\n",
        "    probabilities sum to 1.\n",
        "  returns an item chosen in proportion to its probability\n",
        "  \"\"\"\n",
        "  ranreal = random.random()\n",
        "  for (it,prob) in item_prob_dist.items():\n",
        "        if ranreal < prob:\n",
        "          return it\n",
        "        else:\n",
        "          ranreal -= prob\n",
        "  raise RuntimeError(str(item_prob_dist)+\" is not a probability distribution\")"
      ],
      "execution_count": null,
      "outputs": []
    },
    {
      "cell_type": "code",
      "metadata": {
        "id": "VtBnw0pcjIR7"
      },
      "source": [
        "class TP_agent(Agent):\n",
        "    def __init__(self, env):\n",
        "        self.env = env\n",
        "        self.spent = 0\n",
        "        percepts = env.initial_percepts()\n",
        "        self.ave = self.last_price = percepts['price']\n",
        "        self.instock = percepts['instock']\n",
        "\n",
        "    def go(self, n):\n",
        "      \"\"\"go for n time steps\n",
        "      \"\"\"\n",
        "      for i in range(n):\n",
        "          if self.last_price < 0.9*self.ave and self.instock < 60:\n",
        "              tobuy = 48\n",
        "          elif self.instock < 12:\n",
        "              tobuy = 12\n",
        "          else:\n",
        "              tobuy = 0\n",
        "          self.spent += tobuy*self.last_price\n",
        "          percepts = env.do({'buy': tobuy})\n",
        "          self.last_price = percepts['price']\n",
        "          self.ave = self.ave+(self.last_price-self.ave)*0.05\n",
        "          self.instock = percepts['instock']"
      ],
      "execution_count": null,
      "outputs": []
    },
    {
      "cell_type": "code",
      "metadata": {
        "id": "5Z98d1IpjUZv"
      },
      "source": [
        "env = TP_env()\n",
        "ag = TP_agent(env)"
      ],
      "execution_count": null,
      "outputs": []
    },
    {
      "cell_type": "code",
      "metadata": {
        "colab": {
          "base_uri": "https://localhost:8080/"
        },
        "id": "SSN-z_RrjW9P",
        "outputId": "a9dcdcb1-84fe-4fea-88b7-7fcc2ad8b63a"
      },
      "source": [
        "ag.go(10)\n",
        "ag.spent/env.time ## average spent per time period"
      ],
      "execution_count": null,
      "outputs": [
        {
          "output_type": "execute_result",
          "data": {
            "text/plain": [
              "1195.2"
            ]
          },
          "metadata": {
            "tags": []
          },
          "execution_count": 8
        }
      ]
    },
    {
      "cell_type": "code",
      "metadata": {
        "id": "cEO5u0vyjZwt"
      },
      "source": [
        "import matplotlib.pyplot as plt\n",
        "\n",
        "class Plot_prices(object):\n",
        "    \"\"\"Set up the plot for history of price and number in stock\"\"\"\n",
        "    def __init__(self, ag,env):\n",
        "        self.ag = ag\n",
        "        self.env = env\n",
        "        plt.ion()\n",
        "        plt.xlabel(\"Time\")\n",
        "        plt.ylabel(\"Number in stock. Price.\")\n",
        "    def plot_run(self):\n",
        "        \"\"\"plot history of price and instock\"\"\"\n",
        "        num = len(env.stock_history)\n",
        "        plt.plot(range(num),env.stock_history,label=\"In stock\")\n",
        "        plt.plot(range(num),env.price_history,label=\"Price\")\n",
        "        #plt.legend(loc=\"upper left\")\n",
        "        plt.draw()"
      ],
      "execution_count": null,
      "outputs": []
    },
    {
      "cell_type": "code",
      "metadata": {
        "colab": {
          "base_uri": "https://localhost:8080/",
          "height": 279
        },
        "id": "q-d1oBWAjeEA",
        "outputId": "7f00bdc1-a669-48cb-b223-0961dc2c74f9"
      },
      "source": [
        "pl = Plot_prices(ag,env)\n",
        "pl.plot_run()"
      ],
      "execution_count": null,
      "outputs": [
        {
          "output_type": "display_data",
          "data": {
            "image/png": "[encoded data removed]",
            "text/plain": [
              "<Figure size 432x288 with 1 Axes>"
            ]
          },
          "metadata": {
            "tags": [],
            "needs_background": "light"
          }
        }
      ]
    }
  ]
}