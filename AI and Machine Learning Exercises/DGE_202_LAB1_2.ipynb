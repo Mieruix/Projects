{
  "nbformat": 4,
  "nbformat_minor": 0,
  "metadata": {
    "colab": {
      "provenance": [],
      "collapsed_sections": []
    },
    "kernelspec": {
      "name": "python3",
      "display_name": "Python 3"
    },
    "language_info": {
      "name": "python"
    }
  },
  "cells": [
    {
      "cell_type": "code",
      "metadata": {
        "colab": {
          "base_uri": "https://localhost:8080/"
        },
        "id": "vyfUQwuuh5lM",
        "outputId": "5dba6f57-a3b3-469f-e81e-fcdde0c6f53b"
      },
      "source": [
        "# Juntorn Thiantanukij 2021610213\n",
        "# Exercise 2 Calculator\n",
        "\n",
        "class calculator:\n",
        "\n",
        "    def __init__(self):\n",
        "        self.result = 0\n",
        "\n",
        "    def adder(self, x, y):\n",
        "        self.x, self.y = x, y\n",
        "        self.result = x + y\n",
        "\n",
        "    def subtraction(self, x, y):\n",
        "        self.x, self.y = x, y\n",
        "        self.result = x - y\n",
        "\n",
        "    def multiplier(self, x, y):\n",
        "        self.x, self.y = x, y\n",
        "        self.result = x * y\n",
        "\n",
        "    def divider(self,x, y):\n",
        "        self.x, self.y = x, y\n",
        "        self.result = x / y\n",
        "\n",
        "\n",
        "a = calculator()\n",
        "\n",
        "a.adder(2, 3)\n",
        "print(a.x, \"+\", a.y, '=', a.result)\n",
        "print(\"\")\n",
        "\n",
        "a.subtraction(2, 3)\n",
        "print(a.x, \"-\", a.y, '=', a.result)\n",
        "print(\"\")\n",
        "\n",
        "a.multiplier(2, 3)\n",
        "print(a.x, \"-\", a.y, '=', a.result)\n",
        "print(\"\")\n",
        "\n",
        "a.divider(2, 3)\n",
        "print(a.x, \"/\", a.y, '=', a.result)"
      ],
      "execution_count": null,
      "outputs": [
        {
          "output_type": "stream",
          "text": [
            "2 + 3 = 5\n",
            "\n",
            "2 - 3 = -1\n",
            "\n",
            "2 - 3 = 6\n",
            "\n",
            "2 / 3 = 0.6666666666666666\n"
          ],
          "name": "stdout"
        }
      ]
    }
  ]
}