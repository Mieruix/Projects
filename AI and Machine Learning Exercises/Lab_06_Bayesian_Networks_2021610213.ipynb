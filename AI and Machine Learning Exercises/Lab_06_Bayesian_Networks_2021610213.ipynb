{
  "nbformat": 4,
  "nbformat_minor": 0,
  "metadata": {
    "colab": {
      "provenance": [],
      "collapsed_sections": [
        "J6CNXp3RBhij",
        "1cUZzAzBCR4A"
      ]
    },
    "kernelspec": {
      "name": "python3",
      "display_name": "Python 3"
    },
    "language_info": {
      "name": "python"
    }
  },
  "cells": [
    {
      "cell_type": "markdown",
      "metadata": {
        "id": "Sbk8lTmyAxwG"
      },
      "source": [
        "## Bayesian Networks"
      ]
    },
    {
      "cell_type": "markdown",
      "metadata": {
        "id": "SwUbjf5BA4mu"
      },
      "source": [
        "Bayesian networks are a powerful inference tool, in which a set of variables are represented as nodes, and the lack of an edge represents a conditional independence statement between the two variables, and an edge represents a dependence between the two variables. One of the powerful components of a Bayesian network is the ability to infer the values of certain variables, given observed values for another set of variables. These are referred to as the 'hidden' and 'observed' variables respectively, and need not be set at the time the network is created. The same network can have a different set of variables be hidden or observed between two data points. The more values which are observed, the closer the inferred values will be to the truth."
      ]
    },
    {
      "cell_type": "code",
      "metadata": {
        "id": "y0kEdKEq8ya8",
        "colab": {
          "base_uri": "https://localhost:8080/"
        },
        "outputId": "b8c77a98-6036-4093-ec21-f44a33b84cc6"
      },
      "source": [
        "!pip install pomegranate"
      ],
      "execution_count": null,
      "outputs": [
        {
          "output_type": "stream",
          "text": [
            "Requirement already satisfied: pomegranate in /usr/local/lib/python3.7/dist-packages (0.14.5)\n",
            "Requirement already satisfied: pyyaml in /usr/local/lib/python3.7/dist-packages (from pomegranate) (3.13)\n",
            "Requirement already satisfied: joblib>=0.9.0b4 in /usr/local/lib/python3.7/dist-packages (from pomegranate) (1.0.1)\n",
            "Requirement already satisfied: scipy>=0.17.0 in /usr/local/lib/python3.7/dist-packages (from pomegranate) (1.4.1)\n",
            "Requirement already satisfied: numpy>=1.20.0 in /usr/local/lib/python3.7/dist-packages (from pomegranate) (1.21.2)\n",
            "Requirement already satisfied: networkx>=2.4 in /usr/local/lib/python3.7/dist-packages (from pomegranate) (2.6.2)\n"
          ],
          "name": "stdout"
        }
      ]
    },
    {
      "cell_type": "code",
      "metadata": {
        "id": "dh0aEnMa9Hzj"
      },
      "source": [
        "%matplotlib inline\n",
        "import matplotlib.pyplot as plt\n",
        "import seaborn; seaborn.set_style('whitegrid')\n",
        "import numpy\n",
        "\n",
        "from pomegranate import *\n",
        "\n",
        "numpy.random.seed(0)\n",
        "numpy.set_printoptions(suppress=True)"
      ],
      "execution_count": null,
      "outputs": []
    },
    {
      "cell_type": "markdown",
      "metadata": {
        "id": "J6CNXp3RBhij"
      },
      "source": [
        "\n",
        "## The Monty Hall Gameshow\n",
        "\n",
        "The Monty Hall problem arose from the gameshow Let's Make a Deal, where a guest had to choose which one of three doors had a prize behind it. The twist was that after the guest chose, the host, originally Monty Hall, would then open one of the doors the guest did not pick and ask if the guest wanted to switch which door they had picked. Initial inspection may lead you to believe that if there are only two doors left, there is a 50-50 chance of you picking the right one, and so there is no advantage one way or the other. However, it has been proven both through simulations and analytically that there is in fact a 66% chance of getting the prize if the guest switches their door, regardless of the door they initially went with.\n",
        "\n",
        "We can reproduce this result using Bayesian networks with three nodes, one for the guest, one for the prize, and one for the door Monty chooses to open. The door the guest initially chooses and the door the prize is behind are completely random processes across the three doors, but the door which Monty opens is dependent on both the door the guest chooses (it cannot be the door the guest chooses), and the door the prize is behind (it cannot be the door with the prize behind it).\n",
        "\n",
        "To create the Bayesian network in pomegranate, we first create the distributions which live in each node in the graph. For a discrete (aka categorical) bayesian network we use DiscreteDistribution objects for the root nodes and ConditionalProbabilityTable objects for the inner and leaf nodes. The columns in a ConditionalProbabilityTable correspond to the order in which the parents (the second argument) are specified, and the last column is the value the ConditionalProbabilityTable itself takes. In the case below, the first column corresponds to the value 'guest' takes, then the value 'prize' takes, and then the value that 'monty' takes. 'B', 'C', 'A' refers then to the probability that Monty reveals door 'A' given that the guest has chosen door 'B' and that the prize is actually behind door 'C', or P(Monty='A'|Guest='B', Prize='C').\n"
      ]
    },
    {
      "cell_type": "code",
      "metadata": {
        "id": "eF4VTEgLBdZG"
      },
      "source": [
        "# The guests initial door selection is completely random\n",
        "guest = DiscreteDistribution({'A': 1./3, 'B': 1./3, 'C': 1./3})\n",
        "\n",
        "# The door the prize is behind is also completely random\n",
        "prize = DiscreteDistribution({'A': 1./3, 'B': 1./3, 'C': 1./3})\n",
        "\n",
        "# Monty is dependent on both the guest and the prize. \n",
        "monty = ConditionalProbabilityTable(\n",
        "        [[ 'A', 'A', 'A', 0.0 ],\n",
        "         [ 'A', 'A', 'B', 0.5 ],\n",
        "         [ 'A', 'A', 'C', 0.5 ],\n",
        "         [ 'A', 'B', 'A', 0.0 ],\n",
        "         [ 'A', 'B', 'B', 0.0 ],\n",
        "         [ 'A', 'B', 'C', 1.0 ],\n",
        "         [ 'A', 'C', 'A', 0.0 ],\n",
        "         [ 'A', 'C', 'B', 1.0 ],\n",
        "         [ 'A', 'C', 'C', 0.0 ],\n",
        "         [ 'B', 'A', 'A', 0.0 ],\n",
        "         [ 'B', 'A', 'B', 0.0 ],\n",
        "         [ 'B', 'A', 'C', 1.0 ],\n",
        "         [ 'B', 'B', 'A', 0.5 ],\n",
        "         [ 'B', 'B', 'B', 0.0 ],\n",
        "         [ 'B', 'B', 'C', 0.5 ],\n",
        "         [ 'B', 'C', 'A', 1.0 ],\n",
        "         [ 'B', 'C', 'B', 0.0 ],\n",
        "         [ 'B', 'C', 'C', 0.0 ],\n",
        "         [ 'C', 'A', 'A', 0.0 ],\n",
        "         [ 'C', 'A', 'B', 1.0 ],\n",
        "         [ 'C', 'A', 'C', 0.0 ],\n",
        "         [ 'C', 'B', 'A', 1.0 ],\n",
        "         [ 'C', 'B', 'B', 0.0 ],\n",
        "         [ 'C', 'B', 'C', 0.0 ],\n",
        "         [ 'C', 'C', 'A', 0.5 ],\n",
        "         [ 'C', 'C', 'B', 0.5 ],\n",
        "         [ 'C', 'C', 'C', 0.0 ]], [guest, prize])"
      ],
      "execution_count": null,
      "outputs": []
    },
    {
      "cell_type": "markdown",
      "metadata": {
        "id": "7Nyrv3GiBv-d"
      },
      "source": [
        "Next, we pass these distributions into state objects along with the name for the node."
      ]
    },
    {
      "cell_type": "code",
      "metadata": {
        "id": "Q2AIWuEE9QuE"
      },
      "source": [
        "# State objects hold both the distribution, and a high level name.\n",
        "s1 = State(guest, name=\"guest\")\n",
        "s2 = State(prize, name=\"prize\")\n",
        "s3 = State(monty, name=\"monty\")\n",
        "\n",
        "# Create the Bayesian network object with a useful name\n",
        "model = BayesianNetwork(\"Monty Hall Problem\")\n",
        "\n",
        "# Add the three states to the network \n",
        "model.add_states(s1, s2, s3)\n",
        "\n",
        "# Add edges which represent conditional dependencies, where the second node is \n",
        "# conditionally dependent on the first node (Monty is dependent on both guest and prize)\n",
        "model.add_edge(s1, s3)\n",
        "model.add_edge(s2, s3)\n",
        "\n",
        "# End of network\n",
        "model.bake()"
      ],
      "execution_count": null,
      "outputs": []
    },
    {
      "cell_type": "markdown",
      "metadata": {
        "id": "1cUZzAzBCR4A"
      },
      "source": [
        "\n",
        "## Predicting Probabilities\n",
        "\n",
        "We can calculate probabilities of a sample under the Bayesian network in the same way that we can calculate probabilities under other models. In this case, let's calculate the probability that you initially said door A, that Monty then opened door B, but that the actual car was behind door C.\n"
      ]
    },
    {
      "cell_type": "code",
      "metadata": {
        "id": "6RdzUy_4CVvv",
        "colab": {
          "base_uri": "https://localhost:8080/"
        },
        "outputId": "65c57eaa-f64e-4f3c-fc14-3d2d75c80065"
      },
      "source": [
        "model.probability([['A', 'B', 'C']])"
      ],
      "execution_count": null,
      "outputs": [
        {
          "output_type": "execute_result",
          "data": {
            "text/plain": [
              "0.11111111111111109"
            ]
          },
          "metadata": {},
          "execution_count": 75
        }
      ]
    },
    {
      "cell_type": "markdown",
      "metadata": {
        "id": "qBJEotzaVVyi"
      },
      "source": [
        "The next step is to make predictions using this model. One of the strengths of Bayesian networks is their ability to infer the values of arbitrary ‘hidden variables’ given the values from ‘observed variables.’ These hidden and observed variables do not need to be specified beforehand, and the more variables which are observed the better the inference will be on the hidden variables."
      ]
    },
    {
      "cell_type": "code",
      "metadata": {
        "id": "d_iG3SRmVXIk",
        "colab": {
          "base_uri": "https://localhost:8080/"
        },
        "outputId": "31fafbaa-6f4d-40a9-997d-d76fc58dcc13"
      },
      "source": [
        "beliefs = model.predict_proba({ 'guest' : 'A' })\n",
        "beliefs = map(str, beliefs)\n",
        "print(\"\\n\".join( \"{}\\t{}\".format( state.name, belief ) for state, belief in zip( model.states, beliefs ) ))"
      ],
      "execution_count": null,
      "outputs": [
        {
          "output_type": "stream",
          "text": [
            "guest\tA\n",
            "prize\t{\n",
            "    \"class\" : \"Distribution\",\n",
            "    \"dtype\" : \"str\",\n",
            "    \"name\" : \"DiscreteDistribution\",\n",
            "    \"parameters\" : [\n",
            "        {\n",
            "            \"A\" : 0.3333333333333333,\n",
            "            \"B\" : 0.3333333333333333,\n",
            "            \"C\" : 0.3333333333333333\n",
            "        }\n",
            "    ],\n",
            "    \"frozen\" : false\n",
            "}\n",
            "monty\t{\n",
            "    \"class\" : \"Distribution\",\n",
            "    \"dtype\" : \"str\",\n",
            "    \"name\" : \"DiscreteDistribution\",\n",
            "    \"parameters\" : [\n",
            "        {\n",
            "            \"A\" : 0.0,\n",
            "            \"B\" : 0.49999999999999983,\n",
            "            \"C\" : 0.49999999999999983\n",
            "        }\n",
            "    ],\n",
            "    \"frozen\" : false\n",
            "}\n"
          ],
          "name": "stdout"
        }
      ]
    },
    {
      "cell_type": "markdown",
      "metadata": {
        "id": "5WZZG8djJnhl"
      },
      "source": [
        "Bayesian networks are frequently used to infer/impute the value of missing variables given the observed values. In other models, typically there is either a single or fixed set of missing variables, such as latent factors, that need to be imputed, and so returning a fixed vector or matrix as the predictions makes sense."
      ]
    },
    {
      "cell_type": "code",
      "metadata": {
        "id": "S6o6hhovDk2f",
        "colab": {
          "base_uri": "https://localhost:8080/"
        },
        "outputId": "40a78719-03f3-453b-e256-1ea9f6d357b9"
      },
      "source": [
        "model.predict([['A', 'C', None]])"
      ],
      "execution_count": null,
      "outputs": [
        {
          "output_type": "execute_result",
          "data": {
            "text/plain": [
              "[array(['A', 'C', 'B'], dtype=object)]"
            ]
          },
          "metadata": {},
          "execution_count": 77
        }
      ]
    },
    {
      "cell_type": "markdown",
      "metadata": {
        "id": "DNWq8Ggv2xfi"
      },
      "source": [
        "\n",
        "\n",
        "---\n",
        "# Lab 06\n",
        "Implement the alarm network (Slide page 27) using Bayesian network, and answer following questions;\n",
        "\n",
        "\n",
        "\n",
        "1.   What is the probability that the alarm has sounded but neither a burglary nor an earthquake has occurred, and both Mary and John call?\n",
        "2.   What is the probability that the alarm has sounded by a burglary and John call?\n",
        "3.   What is the probability that the alarm has sounded by a earthquake and Mary call?\n"
      ]
    },
    {
      "cell_type": "code",
      "metadata": {
        "id": "3XNm01C-5TNH"
      },
      "source": [
        "#Juntorn Thiantanukij 2021610213\n",
        "\n",
        "burglary = DiscreteDistribution({'B': 0.001, 'BF': 0.999})\n",
        "\n",
        "eathquake = DiscreteDistribution({'E': 0.002, 'EF': 0.998})\n",
        "\n",
        "#Alarm is dependent on both the burglary and the eathquake. \n",
        "alarm = ConditionalProbabilityTable(\n",
        "        [[ 'B', 'E', 'A', 0.95 ],\n",
        "         [ 'B', 'E', 'AF', 0.05 ],\n",
        "         [ 'B', 'EF', 'A', 0.94 ],\n",
        "         [ 'B', 'EF', 'AF', 0.06 ],\n",
        "         [ 'BF', 'E', 'A', 0.29 ],\n",
        "         [ 'BF', 'E', 'AF', 0.71 ],\n",
        "         [ 'BF', 'EF', 'A', 0.001 ],\n",
        "         [ 'BF', 'EF', 'AF', 0.999 ]], [burglary, eathquake])\n",
        "\n",
        "john = ConditionalProbabilityTable(\n",
        "        [[ 'A', 'J', 0.9 ],\n",
        "         [ 'A', 'JF', 0.1 ],\n",
        "         [ 'AF', 'J', 0.05 ],\n",
        "         [ 'AF', 'JF', 0.95 ]], [alarm])\n",
        "\n",
        "mary = ConditionalProbabilityTable(\n",
        "        [[ 'A', 'M', 0.7 ],\n",
        "         [ 'A', 'MF', 0.3 ],\n",
        "         [ 'AF', 'M', 0.01 ],\n",
        "         [ 'AF', 'MF', 0.99 ]], [alarm])\n",
        "\n",
        "\n",
        "# State objects hold both the distribution, and a high level name.\n",
        "s1 = State(burglary, name=\"burglary\")\n",
        "s2 = State(eathquake, name=\"eathquake\")\n",
        "s3 = State(alarm, name=\"alarm\")\n",
        "s4 = State(john, name=\"john\")\n",
        "s5 = State(mary, name=\"mary\")\n",
        "\n",
        "# Create the Bayesian network object with a useful name\n",
        "model = BayesianNetwork(\"Alarm Network Problem\")\n",
        "\n",
        "# Add the three states to the network \n",
        "model.add_states(s1, s2, s3, s4, s5)\n",
        "\n",
        "# Add edges which represent conditional dependencies, where the second node is \n",
        "# conditionally dependent on the first node (Monty is dependent on both guest and prize)\n",
        "model.add_edge(s1, s3)\n",
        "model.add_edge(s2, s3)\n",
        "model.add_edge(s3, s4)\n",
        "model.add_edge(s3, s5)\n",
        "\n",
        "# End of network\n",
        "model.bake()"
      ],
      "execution_count": null,
      "outputs": []
    },
    {
      "cell_type": "code",
      "metadata": {
        "colab": {
          "base_uri": "https://localhost:8080/"
        },
        "id": "6VPF5uK1OTUd",
        "outputId": "ec323444-3194-42a2-8d81-6f149ad2a637"
      },
      "source": [
        "print(\"--------------------------------\")\n",
        "print(\"Juntorn Thiantanukij 2021610213\")\n",
        "print(\"--------------------------------\")\n",
        "\n",
        "print(\"\")\n",
        "print(\"Q1. What is the probability that the alarm has sounded but neither a bulglary nor an earthquake has occured, and both Mary and John call?\")\n",
        "model.probability([['BF', 'EF', 'A','J','M']])"
      ],
      "execution_count": null,
      "outputs": [
        {
          "output_type": "stream",
          "text": [
            "--------------------------------\n",
            "Juntorn Thiantanukij 2021610213\n",
            "--------------------------------\n",
            "\n",
            "Q1. What is the probability that the alarm has sounded but neither a bulglary nor an earthquake has occured, and both Mary and John call?\n"
          ],
          "name": "stdout"
        },
        {
          "output_type": "execute_result",
          "data": {
            "text/plain": [
              "0.0006281112600000005"
            ]
          },
          "metadata": {},
          "execution_count": 79
        }
      ]
    },
    {
      "cell_type": "code",
      "metadata": {
        "colab": {
          "base_uri": "https://localhost:8080/"
        },
        "id": "PuMVfCc7mjx-",
        "outputId": "5ae75aad-45b1-424e-e68a-8bca0388eecf"
      },
      "source": [
        "#Redo\n",
        "print(\"Q2. What is the probability that the alarm has sounded by a burglary and John call? \")\n",
        "model.probability([['B', 'E', 'A', 'J', 'M']]) + model.probability([['B', 'EF', 'A','J', 'M']]) + model.probability([['B', 'E', 'A','J', 'MF']]) + model.probability([['B', 'EF', 'A','J', 'MF']])"
      ],
      "execution_count": null,
      "outputs": [
        {
          "output_type": "stream",
          "text": [
            "Q2. What is the probability that the alarm has sounded by a burglary and John call? \n"
          ],
          "name": "stdout"
        },
        {
          "output_type": "execute_result",
          "data": {
            "text/plain": [
              "0.0008460180000000002"
            ]
          },
          "metadata": {},
          "execution_count": 80
        }
      ]
    },
    {
      "cell_type": "code",
      "metadata": {
        "colab": {
          "base_uri": "https://localhost:8080/"
        },
        "id": "HMxZYWXfK63-",
        "outputId": "86a0fc43-01d4-4562-84df-4c68eb4fc270"
      },
      "source": [
        "#Redo\n",
        "print(\"Q3. What is the probability that the alarm has sounded by a earthquake and Mary call?\")\n",
        "model.probability([['B', 'E', 'A', 'J', 'M']]) + model.probability([['BF', 'E', 'A','J', 'M']]) + model.probability([['B', 'E', 'A','JF', 'M']]) + model.probability([['BF', 'E', 'A','JF', 'M']])"
      ],
      "execution_count": null,
      "outputs": [
        {
          "output_type": "stream",
          "text": [
            "Q3. What is the probability that the alarm has sounded by a earthquake and Mary call?\n"
          ],
          "name": "stdout"
        },
        {
          "output_type": "execute_result",
          "data": {
            "text/plain": [
              "0.00040692400000000024"
            ]
          },
          "metadata": {},
          "execution_count": 81
        }
      ]
    }
  ]
}